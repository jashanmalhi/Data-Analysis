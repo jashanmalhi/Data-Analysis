{
  "nbformat": 4,
  "nbformat_minor": 0,
  "metadata": {
    "colab": {
      "name": "Used Cars Dataset",
      "version": "0.3.2",
      "provenance": [],
      "collapsed_sections": [],
      "toc_visible": true,
      "include_colab_link": true
    },
    "kernelspec": {
      "display_name": "Python 3",
      "name": "python3"
    }
  },
  "cells": [
    {
      "cell_type": "markdown",
      "metadata": {
        "id": "view-in-github",
        "colab_type": "text"
      },
      "source": [
        "<a href=\"https://colab.research.google.com/github/jashanmalhi/Data-Analysis/blob/master/Used_Cars_Dataset.ipynb\" target=\"_parent\"><img src=\"https://colab.research.google.com/assets/colab-badge.svg\" alt=\"Open In Colab\"/></a>"
      ]
    },
    {
      "cell_type": "markdown",
      "metadata": {
        "colab_type": "text",
        "id": "5fCEDCU_qrC0"
      },
      "source": [
        "<p><img alt=\"Colaboratory logo\" height=\"45px\" src=\"https://colab.research.google.com/img/colab_favicon.ico\" align=\"left\" hspace=\"10px\" vspace=\"0px\"></p>\n",
        "\n",
        "\n",
        "\n",
        "<h1>The Used Cars Dataset Exploration and Analysis</h1>\n",
        "\n",
        "###Jashneet Kaur\n",
        "###jks888@uregina.ca\n",
        "###University of Regina\n",
        "###Spring / Summer 2019"
      ]
    },
    {
      "cell_type": "markdown",
      "metadata": {
        "colab_type": "text",
        "id": "GJBs_flRovLc"
      },
      "source": [
        "## INRTRODUCTION\n",
        "\n",
        "###Chosen Dataset\n",
        "\n",
        "The notebook used the dataset of [used cars](https://www.kaggle.com/austinreese/craigslist-carstrucks-data/version/7) available at the kaggle.com. The dataset was scrapped form the Cragslist.com and it includes the details of used cars listings in US. The dataset used was scrapped just a month ago (Austin Reese, 2019)\n",
        "\n",
        "###Interest in dataset\n",
        "\n",
        "While scrolling through the list of datasets available at Kaggle, this one came to my attention. I have keen interest in the dataset because of my interest in cars, their brands and relative prices. By exploring the dataset I can definately enhance my knowledge of cars with respect to their market value. The selling and purchasing of used cars has always been a great business, by getting some insights of the cars price listings and their conditions, one can get a fair idea of any used car's value in market. Let's explore the dataset.\n",
        "\n",
        "###Data Formatting\n",
        "The dataset is already given with headers and the rows, it is then formatted by deleting some rows and columns. The data is then sorted by the year of manufacture. \n",
        "\n",
        "###Dataset access from Google Drive\n",
        "\n",
        "The dataset was downloaded from the Kaggle, provided by Austin Reese at the web page [used cars](https://www.kaggle.com/austinreese/craigslist-carstrucks-data/version/7). There are two versions of the dataset available at the web page, I have used the dataset \"CraglistsVehicles.csv\". To use the csv file i have first downloaded it and then uploaded it to my google drive. Then used the below code to import my drive and mount the drive content here. I have renamed my dataset file as \"CarList.csv\". \n"
      ]
    },
    {
      "cell_type": "code",
      "metadata": {
        "id": "kcpI8pi9PWv_",
        "colab_type": "code",
        "colab": {}
      },
      "source": [
        "from google.colab import drive"
      ],
      "execution_count": 0,
      "outputs": []
    },
    {
      "cell_type": "code",
      "metadata": {
        "id": "Ob--ys1jd5cO",
        "colab_type": "code",
        "colab": {}
      },
      "source": [
        "cd gdrive/My Drive"
      ],
      "execution_count": 0,
      "outputs": []
    },
    {
      "cell_type": "code",
      "metadata": {
        "id": "EL3NKAOdn53E",
        "colab_type": "code",
        "colab": {}
      },
      "source": [
        "#Importing teh require d libraries\n",
        "import numpy as np\n",
        "import pandas as pd\n",
        "import os"
      ],
      "execution_count": 0,
      "outputs": []
    },
    {
      "cell_type": "markdown",
      "metadata": {
        "id": "yGkLiU7KilQt",
        "colab_type": "text"
      },
      "source": [
        "# SCRUBBING AND FORMATTING DATA\n",
        "\n",
        "###DataFrame\n",
        "\n",
        "The data is read from the csv file and is automatting converted to a dataframe and saved in ledger.\n",
        "\n",
        "###Data Features\n",
        "\n",
        "There are a total of 547764 rows and  21 columns in the dataset. After cleaning up teh adtaset I am left with data rows and 17 data columns. The dataset columns used for analysis are shown below.\n",
        "\n",
        "###Cleaning Dataset\n",
        "\n",
        "I have deleted the below mentioned columns from the dataset.\n",
        "\n",
        "####url:\n",
        "This redirects the dataset to the actual posting of the advertisement. I do not need teh link anymore for my analysis of data, so this will be removed from my dataframe.\n",
        "\n",
        "####city_url : \n",
        "This was deleted because i do not need the city url link. The city can be plotted by using the latitudinal and longitudinal values.\n",
        "\n",
        "####image_url : \n",
        "The images of the vehicles are not utilized and I do not need them in price prediction.\n",
        "\n",
        "####VIN : \n",
        "Most of the VIN values are not provided and I am not going to use the VIN for the vehicle price analysis.\n",
        "\n",
        "####condition: \n",
        "It describes the car condition like excellent or used. The car condition depends on the mileage and the manufacturing year of the car so I do not need this column.\n",
        "\n",
        "\n",
        "The rows with missing values or odd values of the below mentioned columns were deleted from the dataset. The deletion was done for the empty values of below columns because they are the key factors to predict a  used car's price.\n",
        "\n",
        "price; \n",
        "year; \n",
        "transmission; \n",
        "odometer; \n",
        "manufacturer; \n",
        "cylinders"
      ]
    },
    {
      "cell_type": "code",
      "metadata": {
        "id": "CCDmXVd-oLiv",
        "colab_type": "code",
        "colab": {}
      },
      "source": [
        "#read the file data into a ledger variable\n",
        "ledger = pd.read_csv('CarList.csv') "
      ],
      "execution_count": 0,
      "outputs": []
    },
    {
      "cell_type": "code",
      "metadata": {
        "id": "lVd3fZIy-nto",
        "colab_type": "code",
        "colab": {}
      },
      "source": [
        "#to save the loaded data in a backup dataset variable\n",
        "newledger = ledger"
      ],
      "execution_count": 0,
      "outputs": []
    },
    {
      "cell_type": "code",
      "metadata": {
        "id": "PdFk08dF-u5q",
        "colab_type": "code",
        "colab": {}
      },
      "source": [
        "#reload the dataset into the variable\n",
        "ledger = newledger"
      ],
      "execution_count": 0,
      "outputs": []
    },
    {
      "cell_type": "code",
      "metadata": {
        "id": "Ldalu2jQjMvB",
        "colab_type": "code",
        "colab": {
          "base_uri": "https://localhost:8080/",
          "height": 34
        },
        "outputId": "1219b7d0-a7a3-4f48-ad64-11dad8104f76"
      },
      "source": [
        "#get the tpotal number of rows and columns\n",
        "ledger.shape"
      ],
      "execution_count": 244,
      "outputs": [
        {
          "output_type": "execute_result",
          "data": {
            "text/plain": [
              "(543853, 17)"
            ]
          },
          "metadata": {
            "tags": []
          },
          "execution_count": 244
        }
      ]
    },
    {
      "cell_type": "code",
      "metadata": {
        "id": "OrDkasVbokD5",
        "colab_type": "code",
        "colab": {}
      },
      "source": [
        "#get the information of all the headers and the datatypes of the columns\n",
        "ledger.count()"
      ],
      "execution_count": 0,
      "outputs": []
    },
    {
      "cell_type": "code",
      "metadata": {
        "id": "l2PB-_KKlxK8",
        "colab_type": "code",
        "colab": {}
      },
      "source": [
        "#delete the columns\n",
        "del ledger[\"url\"]\n",
        "del ledger[\"city_url\"]\n",
        "del ledger[\"VIN\"]\n",
        "del ledger[\"image_url\"]\n",
        "del ledger[\"condition\"]"
      ],
      "execution_count": 0,
      "outputs": []
    },
    {
      "cell_type": "code",
      "metadata": {
        "id": "itjDT8RUrWO6",
        "colab_type": "code",
        "colab": {}
      },
      "source": [
        "#delete the rows where year < 1960 and price < 1 and odometer, manufacturer, transmission and cylinders is NaN.\n",
        "ledger.drop(ledger[ledger.year < 1960].index, inplace = True)\n",
        "ledger.drop(ledger[ledger.price < 0].index, inplace = True)\n",
        "ledger.dropna(subset=['odometer','manufacturer','transmission','cylinders','year', 'price'])"
      ],
      "execution_count": 0,
      "outputs": []
    },
    {
      "cell_type": "code",
      "metadata": {
        "id": "n8ZX6C4L4Jng",
        "colab_type": "code",
        "colab": {}
      },
      "source": [
        "#I have used the dropna command for all the rows where even any one column value is missing.\n",
        "ledger = ledger.dropna()"
      ],
      "execution_count": 0,
      "outputs": []
    },
    {
      "cell_type": "code",
      "metadata": {
        "id": "ZdB95EHro7S6",
        "colab_type": "code",
        "colab": {}
      },
      "source": [
        "#sorted the listings by the year of manufacture in descending order\n",
        "ledger.sort_values([\"year\"], ascending=False, inplace=True)"
      ],
      "execution_count": 0,
      "outputs": []
    },
    {
      "cell_type": "code",
      "metadata": {
        "id": "wL5gCwYGhxEq",
        "colab_type": "code",
        "colab": {
          "base_uri": "https://localhost:8080/",
          "height": 391
        },
        "outputId": "fb411cf4-ee78-41ce-f178-2d654b4e4f94"
      },
      "source": [
        "ledger.info()"
      ],
      "execution_count": 261,
      "outputs": [
        {
          "output_type": "stream",
          "text": [
            "<class 'pandas.core.frame.DataFrame'>\n",
            "Int64Index: 119777 entries, 295824 to 323496\n",
            "Data columns (total 17 columns):\n",
            "city            119777 non-null object\n",
            "price           119777 non-null int64\n",
            "year            119777 non-null float64\n",
            "manufacturer    119777 non-null object\n",
            "make            119777 non-null object\n",
            "cylinders       119777 non-null object\n",
            "fuel            119777 non-null object\n",
            "odometer        119777 non-null float64\n",
            "title_status    119777 non-null object\n",
            "transmission    119777 non-null object\n",
            "drive           119777 non-null object\n",
            "size            119777 non-null object\n",
            "type            119777 non-null object\n",
            "paint_color     119777 non-null object\n",
            "desc            119777 non-null object\n",
            "lat             119777 non-null float64\n",
            "long            119777 non-null float64\n",
            "dtypes: float64(4), int64(1), object(12)\n",
            "memory usage: 16.4+ MB\n"
          ],
          "name": "stdout"
        }
      ]
    },
    {
      "cell_type": "markdown",
      "metadata": {
        "id": "a3RHYEY_NVHa",
        "colab_type": "text"
      },
      "source": [
        "# REFERENCES\n",
        "\n",
        "Austin Reese, \"Used Cars Dataset\" Vehicles listings from Craigslist.org, 2019. Available at: https://www.kaggle.com/austinreese/craigslist-carstrucks-data/version/7.\n",
        "\n",
        "\n",
        "\n",
        "Tomesh, T. (2019). generatingSignals.ipynb. [online] Gist. Available at: https://gist.github.com/trevortomesh/7df84a9e049ebeeed09f765ba22598f0 [Accessed 20 Jun. 2019].\n"
      ]
    }
  ]
}