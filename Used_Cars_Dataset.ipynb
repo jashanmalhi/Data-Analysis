{
  "nbformat": 4,
  "nbformat_minor": 0,
  "metadata": {
    "colab": {
      "name": "Used Cars Dataset",
      "version": "0.3.2",
      "provenance": [],
      "collapsed_sections": [],
      "include_colab_link": true
    },
    "kernelspec": {
      "display_name": "Python 3",
      "name": "python3"
    }
  },
  "cells": [
    {
      "cell_type": "markdown",
      "metadata": {
        "id": "view-in-github",
        "colab_type": "text"
      },
      "source": [
        "<a href=\"https://colab.research.google.com/github/jashanmalhi/Data-Analysis/blob/master/Used_Cars_Dataset.ipynb\" target=\"_parent\"><img src=\"https://colab.research.google.com/assets/colab-badge.svg\" alt=\"Open In Colab\"/></a>"
      ]
    },
    {
      "cell_type": "markdown",
      "metadata": {
        "colab_type": "text",
        "id": "5fCEDCU_qrC0"
      },
      "source": [
        "<p><img alt=\"Colaboratory logo\" height=\"45px\" src=\"https://colab.research.google.com/img/colab_favicon.ico\" align=\"left\" hspace=\"10px\" vspace=\"0px\"></p>\n",
        "\n",
        "\n",
        "\n",
        "<h1>The Used Cars Dataset Exploration and Analysis</h1>\n",
        "\n",
        "###Jashneet Kaur\n",
        "###jks888@uregina.ca, Id 200380410\n",
        "###University of Regina\n",
        "###Spring / Summer 2019"
      ]
    },
    {
      "cell_type": "markdown",
      "metadata": {
        "colab_type": "text",
        "id": "GJBs_flRovLc"
      },
      "source": [
        "## INRTRODUCTION\n",
        "\n",
        "###Chosen Dataset\n",
        "\n",
        "The notebook used the dataset of [used cars](https://www.kaggle.com/austinreese/craigslist-carstrucks-data/version/7) available at the kaggle.com. The dataset was scrapped form the Cragslist.com and it includes the details of used cars listings in US. The dataset used was scrapped just a month ago (Austin Reese, 2019)\n",
        "\n",
        "###Interest in dataset\n",
        "\n",
        "While scrolling through the list of datasets available at Kaggle, this one came to my attention. I have keen interest in the dataset because of my interest in cars, their brands and relative prices. By exploring the dataset I can definately enhance my knowledge of cars with respect to their market value. The selling and purchasing of used cars has always been a great business, by getting some insights of the cars price listings and their conditions, one can get a fair idea of any used car's value in market. Let's explore the dataset.\n",
        "\n",
        "###Data Formatting\n",
        "The dataset is already given with headers and the rows, it is then formatted by deleting some rows and columns. The data is then sorted by the year of manufacture. (Tomesh,2019)\n",
        "\n",
        "###Dataset access from Google Drive\n",
        "\n",
        "The dataset was downloaded from the Kaggle, provided by Austin Reese at the web page [used cars](https://www.kaggle.com/austinreese/craigslist-carstrucks-data/version/7). There are two versions of the dataset available at the web page, I have used the dataset \"CraglistsVehicles.csv\". To use the csv file i have first downloaded it and then uploaded it to my google drive. Then used the below code to import my drive and mount the drive content here. I have renamed my dataset file as \"CarList.csv\". \n"
      ]
    },
    {
      "cell_type": "code",
      "metadata": {
        "id": "kcpI8pi9PWv_",
        "colab_type": "code",
        "colab": {}
      },
      "source": [
        "from google.colab import drive"
      ],
      "execution_count": 0,
      "outputs": []
    },
    {
      "cell_type": "code",
      "metadata": {
        "id": "OWM3lWQ-jVU7",
        "colab_type": "code",
        "outputId": "a335f47d-9c5b-4c51-b204-1b0e9d916dd7",
        "colab": {
          "base_uri": "https://localhost:8080/",
          "height": 122
        }
      },
      "source": [
        "drive.mount('/content/gdrive')"
      ],
      "execution_count": 0,
      "outputs": [
        {
          "output_type": "stream",
          "text": [
            "Go to this URL in a browser: https://accounts.google.com/o/oauth2/auth?client_id=947318989803-6bn6qk8qdgf4n4g3pfee6491hc0brc4i.apps.googleusercontent.com&redirect_uri=urn%3Aietf%3Awg%3Aoauth%3A2.0%3Aoob&scope=email%20https%3A%2F%2Fwww.googleapis.com%2Fauth%2Fdocs.test%20https%3A%2F%2Fwww.googleapis.com%2Fauth%2Fdrive%20https%3A%2F%2Fwww.googleapis.com%2Fauth%2Fdrive.photos.readonly%20https%3A%2F%2Fwww.googleapis.com%2Fauth%2Fpeopleapi.readonly&response_type=code\n",
            "\n",
            "Enter your authorization code:\n",
            "··········\n",
            "Mounted at /content/gdrive\n"
          ],
          "name": "stdout"
        }
      ]
    },
    {
      "cell_type": "code",
      "metadata": {
        "id": "Ob--ys1jd5cO",
        "colab_type": "code",
        "outputId": "33fc07d6-9d46-4b6e-d49a-c178d674f5d2",
        "colab": {
          "base_uri": "https://localhost:8080/",
          "height": 34
        }
      },
      "source": [
        "cd gdrive/My Drive"
      ],
      "execution_count": 0,
      "outputs": [
        {
          "output_type": "stream",
          "text": [
            "/content/gdrive/My Drive\n"
          ],
          "name": "stdout"
        }
      ]
    },
    {
      "cell_type": "code",
      "metadata": {
        "id": "EL3NKAOdn53E",
        "colab_type": "code",
        "colab": {}
      },
      "source": [
        "#Importing teh require d libraries\n",
        "import numpy as np\n",
        "import pandas as pd\n",
        "import os\n",
        "import matplotlib.pyplot as plt\n",
        "import seaborn as sns"
      ],
      "execution_count": 0,
      "outputs": []
    },
    {
      "cell_type": "markdown",
      "metadata": {
        "id": "yGkLiU7KilQt",
        "colab_type": "text"
      },
      "source": [
        "# SCRUBBING AND FORMATTING DATA\n",
        "\n",
        "###DataFrame\n",
        "\n",
        "The data is read from the csv file and is automatting converted to a dataframe and saved in ledger.\n",
        "\n",
        "###Data Features\n",
        "\n",
        "There are a total of 547764 rows and  21 columns in the dataset. After cleaning up teh adtaset I am left with data rows and 17 data columns. The dataset columns used for analysis are shown below.\n",
        "\n",
        "###Cleaning Dataset\n",
        "\n",
        "I have deleted the below mentioned columns from the dataset. (TutorialsPoint,2019)\n",
        "\n",
        "####url:\n",
        "This redirects the dataset to the actual posting of the advertisement. I do not need teh link anymore for my analysis of data, so this will be removed from my dataframe.\n",
        "\n",
        "####city_url : \n",
        "This was deleted because i do not need the city url link. The city can be plotted by using the latitudinal and longitudinal values.\n",
        "\n",
        "####image_url : \n",
        "The images of the vehicles are not utilized and I do not need them in price prediction.\n",
        "\n",
        "####VIN : \n",
        "Most of the VIN values are not provided and I am not going to use the VIN for the vehicle price analysis.\n",
        "\n",
        "####condition: \n",
        "It describes the car condition like excellent or used. The car condition depends on the mileage and the manufacturing year of the car so I do not need this column.\n",
        "\n",
        "\n",
        "The rows with missing values or odd values of the below mentioned columns were deleted from the dataset. The deletion was done for the empty values of below columns because they are the key factors to predict a  used car's price. I have deleted any row with the car's year of manufacture before 1960, because car industry boomed during 1960's and the cars built before 1960 would not provide a good data for the used car price prediction. (StackOverflow,2019)\n",
        "\n",
        "price; \n",
        "year; \n",
        "transmission; \n",
        "odometer; \n",
        "manufacturer; \n",
        "cylinders"
      ]
    },
    {
      "cell_type": "code",
      "metadata": {
        "id": "CCDmXVd-oLiv",
        "colab_type": "code",
        "colab": {}
      },
      "source": [
        "#read the file data into a ledger variable\n",
        "ledger = pd.read_csv('CarList.csv') "
      ],
      "execution_count": 0,
      "outputs": []
    },
    {
      "cell_type": "markdown",
      "metadata": {
        "id": "_0Wjio1539IS",
        "colab_type": "text"
      },
      "source": [
        "**********************************************************************************************"
      ]
    },
    {
      "cell_type": "code",
      "metadata": {
        "id": "Ldalu2jQjMvB",
        "colab_type": "code",
        "outputId": "db34fdfa-5a73-4bec-afef-e09be639d186",
        "colab": {
          "base_uri": "https://localhost:8080/",
          "height": 34
        }
      },
      "source": [
        "#get the total number of rows and columns\n",
        "ledger.shape"
      ],
      "execution_count": 0,
      "outputs": [
        {
          "output_type": "execute_result",
          "data": {
            "text/plain": [
              "(547764, 22)"
            ]
          },
          "metadata": {
            "tags": []
          },
          "execution_count": 395
        }
      ]
    },
    {
      "cell_type": "code",
      "metadata": {
        "id": "yPNTppEBO8yF",
        "colab_type": "code",
        "outputId": "bcfd7df6-6632-45d7-f798-42a39530a4ac",
        "colab": {
          "base_uri": "https://localhost:8080/",
          "height": 34
        }
      },
      "source": [
        "ledger.size"
      ],
      "execution_count": 0,
      "outputs": [
        {
          "output_type": "execute_result",
          "data": {
            "text/plain": [
              "12050808"
            ]
          },
          "metadata": {
            "tags": []
          },
          "execution_count": 396
        }
      ]
    },
    {
      "cell_type": "code",
      "metadata": {
        "id": "l2PB-_KKlxK8",
        "colab_type": "code",
        "colab": {}
      },
      "source": [
        "#delete the columns\n",
        "del ledger[\"url\"]\n",
        "del ledger[\"city_url\"]\n",
        "del ledger[\"VIN\"]\n",
        "del ledger[\"image_url\"]\n",
        "del ledger[\"condition\"]"
      ],
      "execution_count": 0,
      "outputs": []
    },
    {
      "cell_type": "code",
      "metadata": {
        "id": "n8ZX6C4L4Jng",
        "colab_type": "code",
        "colab": {}
      },
      "source": [
        "#I have used the dropna command for all the rows where even any one column value is missing.\n",
        "ledger = ledger.dropna()"
      ],
      "execution_count": 0,
      "outputs": []
    },
    {
      "cell_type": "code",
      "metadata": {
        "id": "itjDT8RUrWO6",
        "colab_type": "code",
        "colab": {}
      },
      "source": [
        "#delete the rows where year < 1960 and price < 200 \n",
        "ledger.drop(ledger[ledger.price < 200].index, inplace = True)\n"
      ],
      "execution_count": 0,
      "outputs": []
    },
    {
      "cell_type": "code",
      "metadata": {
        "id": "ylmiAPWvMfwq",
        "colab_type": "code",
        "colab": {}
      },
      "source": [
        "ledger.drop(ledger[ledger.year < 1960].index, inplace = True)"
      ],
      "execution_count": 0,
      "outputs": []
    },
    {
      "cell_type": "code",
      "metadata": {
        "id": "ZdB95EHro7S6",
        "colab_type": "code",
        "colab": {}
      },
      "source": [
        "#sorted the listings by the year of manufacture in descending order\n",
        "ledger.sort_values([\"year\"], ascending=False, inplace=True)"
      ],
      "execution_count": 0,
      "outputs": []
    },
    {
      "cell_type": "code",
      "metadata": {
        "id": "2lIsz7AA5XB1",
        "colab_type": "code",
        "colab": {}
      },
      "source": [
        "ledger = ledger.reset_index(drop=True)"
      ],
      "execution_count": 0,
      "outputs": []
    },
    {
      "cell_type": "code",
      "metadata": {
        "id": "OrDkasVbokD5",
        "colab_type": "code",
        "outputId": "2455b782-9e44-41ba-9385-1ce890b1b3a8",
        "colab": {
          "base_uri": "https://localhost:8080/",
          "height": 323
        }
      },
      "source": [
        "ledger.count()"
      ],
      "execution_count": 0,
      "outputs": [
        {
          "output_type": "execute_result",
          "data": {
            "text/plain": [
              "city            109418\n",
              "price           109418\n",
              "year            109418\n",
              "manufacturer    109418\n",
              "make            109418\n",
              "cylinders       109418\n",
              "fuel            109418\n",
              "odometer        109418\n",
              "title_status    109418\n",
              "transmission    109418\n",
              "drive           109418\n",
              "size            109418\n",
              "type            109418\n",
              "paint_color     109418\n",
              "desc            109418\n",
              "lat             109418\n",
              "long            109418\n",
              "dtype: int64"
            ]
          },
          "metadata": {
            "tags": []
          },
          "execution_count": 404
        }
      ]
    },
    {
      "cell_type": "markdown",
      "metadata": {
        "id": "98uT4GMfSRLj",
        "colab_type": "text"
      },
      "source": [
        "# EXPLORATORY DATA ANALYSIS\n",
        "\n",
        "####Data information\n",
        "The dataset is explored using inbuilt functions to find it's dimentions  and other information.\n",
        "\n",
        "####Data Dimentions\n",
        "the functions revelaed that the data is two dimentional and it has a total of 109418 rows and 17 columns after the data cleaning process.\n",
        "\n",
        "####Data head and tail\n",
        "\n",
        "Some of the rows have odometer value as zero, this means there is missing value in the data. The odometer value as 0 either means that the car is not runnable anymore or it is brand new or the odometer is not working. I will look into these rows to see if their description column tells more about these cars with the odometer value zero. This would help in making a decision.\n",
        "\n",
        "####Data Description\n",
        "It shows the min and maximum values of the different columns.\n",
        "\n",
        "####Data Plotting\n",
        "I have decided to plot the price listings against the number fo listings for that price to see the relationship between these two.(Chris, 2017)\n",
        "\n",
        "Most of teh exploration techniques were used from lecture notes of Tomesh (Tomesh,2019)\n",
        "\n",
        "\n",
        "\n"
      ]
    },
    {
      "cell_type": "code",
      "metadata": {
        "id": "wL5gCwYGhxEq",
        "colab_type": "code",
        "outputId": "f6200865-699d-45d7-ee76-38207c2a2f72",
        "colab": {
          "base_uri": "https://localhost:8080/",
          "height": 391
        }
      },
      "source": [
        "ledger.info()"
      ],
      "execution_count": 0,
      "outputs": [
        {
          "output_type": "stream",
          "text": [
            "<class 'pandas.core.frame.DataFrame'>\n",
            "RangeIndex: 109418 entries, 0 to 109417\n",
            "Data columns (total 17 columns):\n",
            "city            109418 non-null object\n",
            "price           109418 non-null int64\n",
            "year            109418 non-null float64\n",
            "manufacturer    109418 non-null object\n",
            "make            109418 non-null object\n",
            "cylinders       109418 non-null object\n",
            "fuel            109418 non-null object\n",
            "odometer        109418 non-null float64\n",
            "title_status    109418 non-null object\n",
            "transmission    109418 non-null object\n",
            "drive           109418 non-null object\n",
            "size            109418 non-null object\n",
            "type            109418 non-null object\n",
            "paint_color     109418 non-null object\n",
            "desc            109418 non-null object\n",
            "lat             109418 non-null float64\n",
            "long            109418 non-null float64\n",
            "dtypes: float64(4), int64(1), object(12)\n",
            "memory usage: 14.2+ MB\n"
          ],
          "name": "stdout"
        }
      ]
    },
    {
      "cell_type": "code",
      "metadata": {
        "id": "QbAB4uThXI0U",
        "colab_type": "code",
        "outputId": "f3c4388a-857c-481f-9875-3e2f0fc8b9c1",
        "colab": {
          "base_uri": "https://localhost:8080/",
          "height": 34
        }
      },
      "source": [
        "ledger.ndim"
      ],
      "execution_count": 0,
      "outputs": [
        {
          "output_type": "execute_result",
          "data": {
            "text/plain": [
              "2"
            ]
          },
          "metadata": {
            "tags": []
          },
          "execution_count": 406
        }
      ]
    },
    {
      "cell_type": "code",
      "metadata": {
        "id": "5-rx1CFxPQQ_",
        "colab_type": "code",
        "outputId": "f1b0d6d6-35e0-4e0b-a80d-0e12f3911b1a",
        "colab": {
          "base_uri": "https://localhost:8080/",
          "height": 411
        }
      },
      "source": [
        "ledger.head(5)"
      ],
      "execution_count": 0,
      "outputs": [
        {
          "output_type": "execute_result",
          "data": {
            "text/html": [
              "<div>\n",
              "<style scoped>\n",
              "    .dataframe tbody tr th:only-of-type {\n",
              "        vertical-align: middle;\n",
              "    }\n",
              "\n",
              "    .dataframe tbody tr th {\n",
              "        vertical-align: top;\n",
              "    }\n",
              "\n",
              "    .dataframe thead th {\n",
              "        text-align: right;\n",
              "    }\n",
              "</style>\n",
              "<table border=\"1\" class=\"dataframe\">\n",
              "  <thead>\n",
              "    <tr style=\"text-align: right;\">\n",
              "      <th></th>\n",
              "      <th>city</th>\n",
              "      <th>price</th>\n",
              "      <th>year</th>\n",
              "      <th>manufacturer</th>\n",
              "      <th>make</th>\n",
              "      <th>cylinders</th>\n",
              "      <th>fuel</th>\n",
              "      <th>odometer</th>\n",
              "      <th>title_status</th>\n",
              "      <th>transmission</th>\n",
              "      <th>drive</th>\n",
              "      <th>size</th>\n",
              "      <th>type</th>\n",
              "      <th>paint_color</th>\n",
              "      <th>desc</th>\n",
              "      <th>lat</th>\n",
              "      <th>long</th>\n",
              "    </tr>\n",
              "  </thead>\n",
              "  <tbody>\n",
              "    <tr>\n",
              "      <th>0</th>\n",
              "      <td>austin, TX</td>\n",
              "      <td>10950</td>\n",
              "      <td>2020.0</td>\n",
              "      <td>toyota</td>\n",
              "      <td>corolla</td>\n",
              "      <td>4 cylinders</td>\n",
              "      <td>gas</td>\n",
              "      <td>6120.0</td>\n",
              "      <td>salvage</td>\n",
              "      <td>automatic</td>\n",
              "      <td>fwd</td>\n",
              "      <td>compact</td>\n",
              "      <td>sedan</td>\n",
              "      <td>blue</td>\n",
              "      <td>Elite Motor Cars of MiamiAsk for: EdgarâÂ (7...</td>\n",
              "      <td>25.827103</td>\n",
              "      <td>-80.241520</td>\n",
              "    </tr>\n",
              "    <tr>\n",
              "      <th>1</th>\n",
              "      <td>panama city, FL</td>\n",
              "      <td>46900</td>\n",
              "      <td>2020.0</td>\n",
              "      <td>jeep</td>\n",
              "      <td>gladiator</td>\n",
              "      <td>6 cylinders</td>\n",
              "      <td>gas</td>\n",
              "      <td>8.0</td>\n",
              "      <td>clean</td>\n",
              "      <td>automatic</td>\n",
              "      <td>4wd</td>\n",
              "      <td>mid-size</td>\n",
              "      <td>SUV</td>\n",
              "      <td>red</td>\n",
              "      <td>NEW JEEP GLADIATOR...Sport Model..Automatic an...</td>\n",
              "      <td>30.175202</td>\n",
              "      <td>-85.667038</td>\n",
              "    </tr>\n",
              "    <tr>\n",
              "      <th>2</th>\n",
              "      <td>rochester, MN</td>\n",
              "      <td>68600</td>\n",
              "      <td>2020.0</td>\n",
              "      <td>toyota</td>\n",
              "      <td>supra</td>\n",
              "      <td>6 cylinders</td>\n",
              "      <td>gas</td>\n",
              "      <td>0.0</td>\n",
              "      <td>clean</td>\n",
              "      <td>automatic</td>\n",
              "      <td>rwd</td>\n",
              "      <td>mid-size</td>\n",
              "      <td>coupe</td>\n",
              "      <td>red</td>\n",
              "      <td>Red Supra - Launch Edition - One of 1500 Limit...</td>\n",
              "      <td>44.046267</td>\n",
              "      <td>-91.674145</td>\n",
              "    </tr>\n",
              "    <tr>\n",
              "      <th>3</th>\n",
              "      <td>ventura county</td>\n",
              "      <td>270</td>\n",
              "      <td>2019.0</td>\n",
              "      <td>jeep</td>\n",
              "      <td>cherokee latitude sport</td>\n",
              "      <td>4 cylinders</td>\n",
              "      <td>gas</td>\n",
              "      <td>4500.0</td>\n",
              "      <td>clean</td>\n",
              "      <td>automatic</td>\n",
              "      <td>fwd</td>\n",
              "      <td>mid-size</td>\n",
              "      <td>SUV</td>\n",
              "      <td>black</td>\n",
              "      <td>Lease transfer on a 2019 Jeep Cherokee w/ leat...</td>\n",
              "      <td>34.263482</td>\n",
              "      <td>-118.905344</td>\n",
              "    </tr>\n",
              "    <tr>\n",
              "      <th>4</th>\n",
              "      <td>green bay, WI</td>\n",
              "      <td>69480</td>\n",
              "      <td>2019.0</td>\n",
              "      <td>ford</td>\n",
              "      <td>expedition</td>\n",
              "      <td>6 cylinders</td>\n",
              "      <td>gas</td>\n",
              "      <td>4233.0</td>\n",
              "      <td>clean</td>\n",
              "      <td>automatic</td>\n",
              "      <td>4wd</td>\n",
              "      <td>full-size</td>\n",
              "      <td>SUV</td>\n",
              "      <td>grey</td>\n",
              "      <td>2019 Ford Expedition Limited - Stone Gray\\n\\n\\...</td>\n",
              "      <td>44.520390</td>\n",
              "      <td>-88.066450</td>\n",
              "    </tr>\n",
              "  </tbody>\n",
              "</table>\n",
              "</div>"
            ],
            "text/plain": [
              "              city  price  ...        lat        long\n",
              "0       austin, TX  10950  ...  25.827103  -80.241520\n",
              "1  panama city, FL  46900  ...  30.175202  -85.667038\n",
              "2    rochester, MN  68600  ...  44.046267  -91.674145\n",
              "3   ventura county    270  ...  34.263482 -118.905344\n",
              "4    green bay, WI  69480  ...  44.520390  -88.066450\n",
              "\n",
              "[5 rows x 17 columns]"
            ]
          },
          "metadata": {
            "tags": []
          },
          "execution_count": 407
        }
      ]
    },
    {
      "cell_type": "code",
      "metadata": {
        "id": "qSTewYf7PUV2",
        "colab_type": "code",
        "outputId": "1afcc59c-8b9f-4a66-afd7-2f201f3d75af",
        "colab": {
          "base_uri": "https://localhost:8080/",
          "height": 513
        }
      },
      "source": [
        "ledger.tail(5)"
      ],
      "execution_count": 0,
      "outputs": [
        {
          "output_type": "execute_result",
          "data": {
            "text/html": [
              "<div>\n",
              "<style scoped>\n",
              "    .dataframe tbody tr th:only-of-type {\n",
              "        vertical-align: middle;\n",
              "    }\n",
              "\n",
              "    .dataframe tbody tr th {\n",
              "        vertical-align: top;\n",
              "    }\n",
              "\n",
              "    .dataframe thead th {\n",
              "        text-align: right;\n",
              "    }\n",
              "</style>\n",
              "<table border=\"1\" class=\"dataframe\">\n",
              "  <thead>\n",
              "    <tr style=\"text-align: right;\">\n",
              "      <th></th>\n",
              "      <th>city</th>\n",
              "      <th>price</th>\n",
              "      <th>year</th>\n",
              "      <th>manufacturer</th>\n",
              "      <th>make</th>\n",
              "      <th>cylinders</th>\n",
              "      <th>fuel</th>\n",
              "      <th>odometer</th>\n",
              "      <th>title_status</th>\n",
              "      <th>transmission</th>\n",
              "      <th>drive</th>\n",
              "      <th>size</th>\n",
              "      <th>type</th>\n",
              "      <th>paint_color</th>\n",
              "      <th>desc</th>\n",
              "      <th>lat</th>\n",
              "      <th>long</th>\n",
              "    </tr>\n",
              "  </thead>\n",
              "  <tbody>\n",
              "    <tr>\n",
              "      <th>109413</th>\n",
              "      <td>new york city</td>\n",
              "      <td>30000</td>\n",
              "      <td>1960.0</td>\n",
              "      <td>chevrolet</td>\n",
              "      <td>bel air</td>\n",
              "      <td>8 cylinders</td>\n",
              "      <td>gas</td>\n",
              "      <td>638.0</td>\n",
              "      <td>clean</td>\n",
              "      <td>automatic</td>\n",
              "      <td>rwd</td>\n",
              "      <td>full-size</td>\n",
              "      <td>coupe</td>\n",
              "      <td>red</td>\n",
              "      <td>Must see over 75k spent in rebuild over two ye...</td>\n",
              "      <td>40.674429</td>\n",
              "      <td>-73.393053</td>\n",
              "    </tr>\n",
              "    <tr>\n",
              "      <th>109414</th>\n",
              "      <td>st cloud, MN</td>\n",
              "      <td>15900</td>\n",
              "      <td>1960.0</td>\n",
              "      <td>ford</td>\n",
              "      <td>f100 pick up</td>\n",
              "      <td>8 cylinders</td>\n",
              "      <td>gas</td>\n",
              "      <td>61000.0</td>\n",
              "      <td>clean</td>\n",
              "      <td>manual</td>\n",
              "      <td>rwd</td>\n",
              "      <td>full-size</td>\n",
              "      <td>pickup</td>\n",
              "      <td>grey</td>\n",
              "      <td>UP FOR SALE, 1960 FORD F100, NUMBERS MATCHING,...</td>\n",
              "      <td>45.810700</td>\n",
              "      <td>-94.832100</td>\n",
              "    </tr>\n",
              "    <tr>\n",
              "      <th>109415</th>\n",
              "      <td>hartford, CT</td>\n",
              "      <td>50000</td>\n",
              "      <td>1960.0</td>\n",
              "      <td>chevrolet</td>\n",
              "      <td>corvette</td>\n",
              "      <td>8 cylinders</td>\n",
              "      <td>gas</td>\n",
              "      <td>62000.0</td>\n",
              "      <td>clean</td>\n",
              "      <td>manual</td>\n",
              "      <td>rwd</td>\n",
              "      <td>mid-size</td>\n",
              "      <td>convertible</td>\n",
              "      <td>red</td>\n",
              "      <td>New tires\\nNew rugs\\n62000 miles \\nTotal overh...</td>\n",
              "      <td>41.585200</td>\n",
              "      <td>-72.612800</td>\n",
              "    </tr>\n",
              "    <tr>\n",
              "      <th>109416</th>\n",
              "      <td>san luis obispo</td>\n",
              "      <td>3500</td>\n",
              "      <td>1960.0</td>\n",
              "      <td>ford</td>\n",
              "      <td>thunderbird</td>\n",
              "      <td>8 cylinders</td>\n",
              "      <td>gas</td>\n",
              "      <td>5000.0</td>\n",
              "      <td>clean</td>\n",
              "      <td>automatic</td>\n",
              "      <td>fwd</td>\n",
              "      <td>full-size</td>\n",
              "      <td>coupe</td>\n",
              "      <td>silver</td>\n",
              "      <td>Newer 390 fe motor installed. Has approximatel...</td>\n",
              "      <td>35.615720</td>\n",
              "      <td>-120.669079</td>\n",
              "    </tr>\n",
              "    <tr>\n",
              "      <th>109417</th>\n",
              "      <td>winchester, VA</td>\n",
              "      <td>40000</td>\n",
              "      <td>1960.0</td>\n",
              "      <td>pontiac</td>\n",
              "      <td>bonneville convertible</td>\n",
              "      <td>8 cylinders</td>\n",
              "      <td>gas</td>\n",
              "      <td>94101.0</td>\n",
              "      <td>clean</td>\n",
              "      <td>automatic</td>\n",
              "      <td>rwd</td>\n",
              "      <td>full-size</td>\n",
              "      <td>convertible</td>\n",
              "      <td>custom</td>\n",
              "      <td>Fully restored in 2006. New paint, new upholst...</td>\n",
              "      <td>38.911300</td>\n",
              "      <td>-77.967400</td>\n",
              "    </tr>\n",
              "  </tbody>\n",
              "</table>\n",
              "</div>"
            ],
            "text/plain": [
              "                   city  price  ...        lat        long\n",
              "109413    new york city  30000  ...  40.674429  -73.393053\n",
              "109414     st cloud, MN  15900  ...  45.810700  -94.832100\n",
              "109415     hartford, CT  50000  ...  41.585200  -72.612800\n",
              "109416  san luis obispo   3500  ...  35.615720 -120.669079\n",
              "109417   winchester, VA  40000  ...  38.911300  -77.967400\n",
              "\n",
              "[5 rows x 17 columns]"
            ]
          },
          "metadata": {
            "tags": []
          },
          "execution_count": 408
        }
      ]
    },
    {
      "cell_type": "code",
      "metadata": {
        "id": "cYQIQh6hPH2Z",
        "colab_type": "code",
        "outputId": "3eed8a80-e58f-44c9-9bc1-43fa48f156ea",
        "colab": {
          "base_uri": "https://localhost:8080/",
          "height": 297
        }
      },
      "source": [
        "ledger.describe()"
      ],
      "execution_count": 0,
      "outputs": [
        {
          "output_type": "execute_result",
          "data": {
            "text/html": [
              "<div>\n",
              "<style scoped>\n",
              "    .dataframe tbody tr th:only-of-type {\n",
              "        vertical-align: middle;\n",
              "    }\n",
              "\n",
              "    .dataframe tbody tr th {\n",
              "        vertical-align: top;\n",
              "    }\n",
              "\n",
              "    .dataframe thead th {\n",
              "        text-align: right;\n",
              "    }\n",
              "</style>\n",
              "<table border=\"1\" class=\"dataframe\">\n",
              "  <thead>\n",
              "    <tr style=\"text-align: right;\">\n",
              "      <th></th>\n",
              "      <th>price</th>\n",
              "      <th>year</th>\n",
              "      <th>odometer</th>\n",
              "      <th>lat</th>\n",
              "      <th>long</th>\n",
              "    </tr>\n",
              "  </thead>\n",
              "  <tbody>\n",
              "    <tr>\n",
              "      <th>count</th>\n",
              "      <td>1.094180e+05</td>\n",
              "      <td>109418.000000</td>\n",
              "      <td>1.094180e+05</td>\n",
              "      <td>109418.000000</td>\n",
              "      <td>109418.000000</td>\n",
              "    </tr>\n",
              "    <tr>\n",
              "      <th>mean</th>\n",
              "      <td>9.333188e+04</td>\n",
              "      <td>2007.930569</td>\n",
              "      <td>1.191248e+05</td>\n",
              "      <td>38.510519</td>\n",
              "      <td>-92.013388</td>\n",
              "    </tr>\n",
              "    <tr>\n",
              "      <th>std</th>\n",
              "      <td>1.648350e+07</td>\n",
              "      <td>7.760470</td>\n",
              "      <td>1.315943e+05</td>\n",
              "      <td>5.596388</td>\n",
              "      <td>16.251720</td>\n",
              "    </tr>\n",
              "    <tr>\n",
              "      <th>min</th>\n",
              "      <td>2.000000e+02</td>\n",
              "      <td>1960.000000</td>\n",
              "      <td>0.000000e+00</td>\n",
              "      <td>-82.890831</td>\n",
              "      <td>-161.874900</td>\n",
              "    </tr>\n",
              "    <tr>\n",
              "      <th>25%</th>\n",
              "      <td>4.650000e+03</td>\n",
              "      <td>2005.000000</td>\n",
              "      <td>6.977400e+04</td>\n",
              "      <td>34.926700</td>\n",
              "      <td>-97.951800</td>\n",
              "    </tr>\n",
              "    <tr>\n",
              "      <th>50%</th>\n",
              "      <td>8.900000e+03</td>\n",
              "      <td>2009.000000</td>\n",
              "      <td>1.123220e+05</td>\n",
              "      <td>39.363221</td>\n",
              "      <td>-86.875248</td>\n",
              "    </tr>\n",
              "    <tr>\n",
              "      <th>75%</th>\n",
              "      <td>1.590000e+04</td>\n",
              "      <td>2013.000000</td>\n",
              "      <td>1.552140e+05</td>\n",
              "      <td>42.477134</td>\n",
              "      <td>-80.396200</td>\n",
              "    </tr>\n",
              "    <tr>\n",
              "      <th>max</th>\n",
              "      <td>4.045085e+09</td>\n",
              "      <td>2020.000000</td>\n",
              "      <td>1.000000e+07</td>\n",
              "      <td>68.582997</td>\n",
              "      <td>8.899454</td>\n",
              "    </tr>\n",
              "  </tbody>\n",
              "</table>\n",
              "</div>"
            ],
            "text/plain": [
              "              price           year      odometer            lat           long\n",
              "count  1.094180e+05  109418.000000  1.094180e+05  109418.000000  109418.000000\n",
              "mean   9.333188e+04    2007.930569  1.191248e+05      38.510519     -92.013388\n",
              "std    1.648350e+07       7.760470  1.315943e+05       5.596388      16.251720\n",
              "min    2.000000e+02    1960.000000  0.000000e+00     -82.890831    -161.874900\n",
              "25%    4.650000e+03    2005.000000  6.977400e+04      34.926700     -97.951800\n",
              "50%    8.900000e+03    2009.000000  1.123220e+05      39.363221     -86.875248\n",
              "75%    1.590000e+04    2013.000000  1.552140e+05      42.477134     -80.396200\n",
              "max    4.045085e+09    2020.000000  1.000000e+07      68.582997       8.899454"
            ]
          },
          "metadata": {
            "tags": []
          },
          "execution_count": 409
        }
      ]
    },
    {
      "cell_type": "code",
      "metadata": {
        "id": "ZaBPYqO0pT8g",
        "colab_type": "code",
        "outputId": "eb7e2e04-3da0-4049-a64d-3819a38a515b",
        "colab": {
          "base_uri": "https://localhost:8080/",
          "height": 404
        }
      },
      "source": [
        "plt.figure(figsize=(10,6))\n",
        "ax = sns.scatterplot(x=\"price\", y=ledger['price'].value_counts(), hue=ledger['price'].value_counts(), data=ledger)\n",
        "plt.title(\"Car price vs count of listings for that price\");"
      ],
      "execution_count": 0,
      "outputs": [
        {
          "output_type": "display_data",
          "data": {
            "image/png": "[encoded data removed]",
            "text/plain": [
              "<Figure size 720x432 with 1 Axes>"
            ]
          },
          "metadata": {
            "tags": []
          }
        }
      ]
    },
    {
      "cell_type": "markdown",
      "metadata": {
        "id": "UwojvUli-mfZ",
        "colab_type": "text"
      },
      "source": [
        "The scatter plot shows that there are a few price listings which are outliers. these values are stretching the plotted graph. Let us explore these outliers. Checking the rows with price greater than 5,00,000. (Chris, 2017)"
      ]
    },
    {
      "cell_type": "code",
      "metadata": {
        "id": "lDlMWnBwwSRk",
        "colab_type": "code",
        "outputId": "3f6aae84-feea-4ad1-866d-137016d3630d",
        "colab": {
          "base_uri": "https://localhost:8080/",
          "height": 51
        }
      },
      "source": [
        "highprice = np.where(ledger[\"price\"]>500000)\n",
        "highprice"
      ],
      "execution_count": 0,
      "outputs": [
        {
          "output_type": "execute_result",
          "data": {
            "text/plain": [
              "(array([   543,  11701,  17862,  18156,  25562,  38371,  42052,  43358,\n",
              "         45826,  61078,  79045,  79781,  84522,  88322, 108154, 109361]),)"
            ]
          },
          "metadata": {
            "tags": []
          },
          "execution_count": 411
        }
      ]
    },
    {
      "cell_type": "code",
      "metadata": {
        "id": "pjH29BfvH6o_",
        "colab_type": "code",
        "outputId": "878e244a-613a-4ac9-9192-3fdeee27e2e7",
        "colab": {
          "base_uri": "https://localhost:8080/",
          "height": 1228
        }
      },
      "source": [
        "ledger.loc[highprice]"
      ],
      "execution_count": 0,
      "outputs": [
        {
          "output_type": "execute_result",
          "data": {
            "text/html": [
              "<div>\n",
              "<style scoped>\n",
              "    .dataframe tbody tr th:only-of-type {\n",
              "        vertical-align: middle;\n",
              "    }\n",
              "\n",
              "    .dataframe tbody tr th {\n",
              "        vertical-align: top;\n",
              "    }\n",
              "\n",
              "    .dataframe thead th {\n",
              "        text-align: right;\n",
              "    }\n",
              "</style>\n",
              "<table border=\"1\" class=\"dataframe\">\n",
              "  <thead>\n",
              "    <tr style=\"text-align: right;\">\n",
              "      <th></th>\n",
              "      <th>city</th>\n",
              "      <th>price</th>\n",
              "      <th>year</th>\n",
              "      <th>manufacturer</th>\n",
              "      <th>make</th>\n",
              "      <th>cylinders</th>\n",
              "      <th>fuel</th>\n",
              "      <th>odometer</th>\n",
              "      <th>title_status</th>\n",
              "      <th>transmission</th>\n",
              "      <th>drive</th>\n",
              "      <th>size</th>\n",
              "      <th>type</th>\n",
              "      <th>paint_color</th>\n",
              "      <th>desc</th>\n",
              "      <th>lat</th>\n",
              "      <th>long</th>\n",
              "    </tr>\n",
              "  </thead>\n",
              "  <tbody>\n",
              "    <tr>\n",
              "      <th>543</th>\n",
              "      <td>buffalo, NY</td>\n",
              "      <td>46026000</td>\n",
              "      <td>2018.0</td>\n",
              "      <td>jeep</td>\n",
              "      <td>cherokee latitude plus 4x4</td>\n",
              "      <td>4 cylinders</td>\n",
              "      <td>gas</td>\n",
              "      <td>16500.0</td>\n",
              "      <td>lien</td>\n",
              "      <td>automatic</td>\n",
              "      <td>4wd</td>\n",
              "      <td>mid-size</td>\n",
              "      <td>SUV</td>\n",
              "      <td>custom</td>\n",
              "      <td>I recently purchased a brand new Jeep from the...</td>\n",
              "      <td>43.049800</td>\n",
              "      <td>-78.851000</td>\n",
              "    </tr>\n",
              "    <tr>\n",
              "      <th>11701</th>\n",
              "      <td>atlanta, GA</td>\n",
              "      <td>4045085454</td>\n",
              "      <td>2016.0</td>\n",
              "      <td>ford</td>\n",
              "      <td>fusion</td>\n",
              "      <td>4 cylinders</td>\n",
              "      <td>gas</td>\n",
              "      <td>80011.0</td>\n",
              "      <td>clean</td>\n",
              "      <td>automatic</td>\n",
              "      <td>fwd</td>\n",
              "      <td>full-size</td>\n",
              "      <td>sedan</td>\n",
              "      <td>silver</td>\n",
              "      <td>CHRIS MOTORS \\n3833 FLATSHOALS PKWY\\nDECATUR G...</td>\n",
              "      <td>33.695400</td>\n",
              "      <td>-84.248900</td>\n",
              "    </tr>\n",
              "    <tr>\n",
              "      <th>17862</th>\n",
              "      <td>st cloud, MN</td>\n",
              "      <td>9999999</td>\n",
              "      <td>2015.0</td>\n",
              "      <td>toyota</td>\n",
              "      <td>prius c</td>\n",
              "      <td>4 cylinders</td>\n",
              "      <td>gas</td>\n",
              "      <td>68000.0</td>\n",
              "      <td>clean</td>\n",
              "      <td>automatic</td>\n",
              "      <td>fwd</td>\n",
              "      <td>compact</td>\n",
              "      <td>sedan</td>\n",
              "      <td>red</td>\n",
              "      <td>Sale pending no longer offered to others.\\n\\n\\...</td>\n",
              "      <td>45.139300</td>\n",
              "      <td>-95.052300</td>\n",
              "    </tr>\n",
              "    <tr>\n",
              "      <th>18156</th>\n",
              "      <td>spokane / coeur d'alene</td>\n",
              "      <td>625000</td>\n",
              "      <td>2015.0</td>\n",
              "      <td>chevrolet</td>\n",
              "      <td>silverado 1500 crew</td>\n",
              "      <td>8 cylinders</td>\n",
              "      <td>gas</td>\n",
              "      <td>49900.0</td>\n",
              "      <td>clean</td>\n",
              "      <td>automatic</td>\n",
              "      <td>4wd</td>\n",
              "      <td>full-size</td>\n",
              "      <td>truck</td>\n",
              "      <td>black</td>\n",
              "      <td>2015 Chevrolet Silverado 1500 LTZ Z71-Midnight...</td>\n",
              "      <td>47.658400</td>\n",
              "      <td>-117.156800</td>\n",
              "    </tr>\n",
              "    <tr>\n",
              "      <th>25562</th>\n",
              "      <td>south florida</td>\n",
              "      <td>1700000</td>\n",
              "      <td>2014.0</td>\n",
              "      <td>bmw</td>\n",
              "      <td>328d</td>\n",
              "      <td>4 cylinders</td>\n",
              "      <td>diesel</td>\n",
              "      <td>34590.0</td>\n",
              "      <td>clean</td>\n",
              "      <td>automatic</td>\n",
              "      <td>rwd</td>\n",
              "      <td>mid-size</td>\n",
              "      <td>sedan</td>\n",
              "      <td>black</td>\n",
              "      <td>Up for sale is a beautiful and very well equip...</td>\n",
              "      <td>25.928600</td>\n",
              "      <td>-80.183000</td>\n",
              "    </tr>\n",
              "    <tr>\n",
              "      <th>38371</th>\n",
              "      <td>long island, NY</td>\n",
              "      <td>3479272999</td>\n",
              "      <td>2012.0</td>\n",
              "      <td>bmw</td>\n",
              "      <td>650i</td>\n",
              "      <td>8 cylinders</td>\n",
              "      <td>gas</td>\n",
              "      <td>58000.0</td>\n",
              "      <td>clean</td>\n",
              "      <td>automatic</td>\n",
              "      <td>rwd</td>\n",
              "      <td>full-size</td>\n",
              "      <td>pickup</td>\n",
              "      <td>grey</td>\n",
              "      <td>Car good condition Cash only\\n2012 BMW 650</td>\n",
              "      <td>40.713500</td>\n",
              "      <td>-73.354600</td>\n",
              "    </tr>\n",
              "    <tr>\n",
              "      <th>42052</th>\n",
              "      <td>southwest michigan</td>\n",
              "      <td>2400000</td>\n",
              "      <td>2011.0</td>\n",
              "      <td>ford</td>\n",
              "      <td>expedition</td>\n",
              "      <td>8 cylinders</td>\n",
              "      <td>gas</td>\n",
              "      <td>31460.0</td>\n",
              "      <td>clean</td>\n",
              "      <td>automatic</td>\n",
              "      <td>4wd</td>\n",
              "      <td>full-size</td>\n",
              "      <td>SUV</td>\n",
              "      <td>white</td>\n",
              "      <td>2011 Ford Expedition for sale. XLT premium pac...</td>\n",
              "      <td>41.705100</td>\n",
              "      <td>-86.483800</td>\n",
              "    </tr>\n",
              "    <tr>\n",
              "      <th>43358</th>\n",
              "      <td>rhode island</td>\n",
              "      <td>1090000</td>\n",
              "      <td>2011.0</td>\n",
              "      <td>ford</td>\n",
              "      <td>f-150 super cab pick up</td>\n",
              "      <td>6 cylinders</td>\n",
              "      <td>gas</td>\n",
              "      <td>115650.0</td>\n",
              "      <td>clean</td>\n",
              "      <td>automatic</td>\n",
              "      <td>rwd</td>\n",
              "      <td>full-size</td>\n",
              "      <td>pickup</td>\n",
              "      <td>silver</td>\n",
              "      <td>One owner truck Ford F-150 super cab, leather ...</td>\n",
              "      <td>41.668315</td>\n",
              "      <td>-71.601677</td>\n",
              "    </tr>\n",
              "    <tr>\n",
              "      <th>45826</th>\n",
              "      <td>charlottesville, VA</td>\n",
              "      <td>777777</td>\n",
              "      <td>2011.0</td>\n",
              "      <td>bmw</td>\n",
              "      <td>550i</td>\n",
              "      <td>8 cylinders</td>\n",
              "      <td>gas</td>\n",
              "      <td>80.0</td>\n",
              "      <td>clean</td>\n",
              "      <td>other</td>\n",
              "      <td>rwd</td>\n",
              "      <td>full-size</td>\n",
              "      <td>sedan</td>\n",
              "      <td>black</td>\n",
              "      <td>4dr black and beautiful 550i.black interior.20...</td>\n",
              "      <td>38.157400</td>\n",
              "      <td>-79.065100</td>\n",
              "    </tr>\n",
              "    <tr>\n",
              "      <th>61078</th>\n",
              "      <td>north jersey</td>\n",
              "      <td>2099500</td>\n",
              "      <td>2008.0</td>\n",
              "      <td>ford</td>\n",
              "      <td>f 250 super duty</td>\n",
              "      <td>8 cylinders</td>\n",
              "      <td>gas</td>\n",
              "      <td>111000.0</td>\n",
              "      <td>clean</td>\n",
              "      <td>automatic</td>\n",
              "      <td>4wd</td>\n",
              "      <td>full-size</td>\n",
              "      <td>pickup</td>\n",
              "      <td>red</td>\n",
              "      <td>2008 Ford F 250 SuperDuty with 18 cu.yard\\nDum...</td>\n",
              "      <td>40.954800</td>\n",
              "      <td>-73.960200</td>\n",
              "    </tr>\n",
              "    <tr>\n",
              "      <th>79045</th>\n",
              "      <td>greenville / upstate</td>\n",
              "      <td>1111111111</td>\n",
              "      <td>2005.0</td>\n",
              "      <td>cadillac</td>\n",
              "      <td>xlr</td>\n",
              "      <td>8 cylinders</td>\n",
              "      <td>gas</td>\n",
              "      <td>67300.0</td>\n",
              "      <td>clean</td>\n",
              "      <td>automatic</td>\n",
              "      <td>rwd</td>\n",
              "      <td>full-size</td>\n",
              "      <td>convertible</td>\n",
              "      <td>blue</td>\n",
              "      <td>2005 Cadillac XLR Adult owned,  2nd owner, Alw...</td>\n",
              "      <td>34.185600</td>\n",
              "      <td>-81.864400</td>\n",
              "    </tr>\n",
              "    <tr>\n",
              "      <th>79781</th>\n",
              "      <td>janesville, WI</td>\n",
              "      <td>2000000</td>\n",
              "      <td>2005.0</td>\n",
              "      <td>honda</td>\n",
              "      <td>odyssey</td>\n",
              "      <td>6 cylinders</td>\n",
              "      <td>gas</td>\n",
              "      <td>0.0</td>\n",
              "      <td>clean</td>\n",
              "      <td>automatic</td>\n",
              "      <td>fwd</td>\n",
              "      <td>mid-size</td>\n",
              "      <td>van</td>\n",
              "      <td>silver</td>\n",
              "      <td>New Alternator\\nNew Battery\\nNew Front Pads an...</td>\n",
              "      <td>42.532300</td>\n",
              "      <td>-88.348500</td>\n",
              "    </tr>\n",
              "    <tr>\n",
              "      <th>84522</th>\n",
              "      <td>kalispell, MT</td>\n",
              "      <td>123456789</td>\n",
              "      <td>2004.0</td>\n",
              "      <td>honda</td>\n",
              "      <td>accord ex</td>\n",
              "      <td>6 cylinders</td>\n",
              "      <td>gas</td>\n",
              "      <td>228038.0</td>\n",
              "      <td>clean</td>\n",
              "      <td>automatic</td>\n",
              "      <td>fwd</td>\n",
              "      <td>mid-size</td>\n",
              "      <td>sedan</td>\n",
              "      <td>white</td>\n",
              "      <td>This is a very nice 2004 Honda Accord 4 door. ...</td>\n",
              "      <td>48.202800</td>\n",
              "      <td>-114.303900</td>\n",
              "    </tr>\n",
              "    <tr>\n",
              "      <th>88322</th>\n",
              "      <td>orange county, CA</td>\n",
              "      <td>5800000</td>\n",
              "      <td>2003.0</td>\n",
              "      <td>lexus</td>\n",
              "      <td>ls 430</td>\n",
              "      <td>8 cylinders</td>\n",
              "      <td>gas</td>\n",
              "      <td>230000.0</td>\n",
              "      <td>clean</td>\n",
              "      <td>other</td>\n",
              "      <td>rwd</td>\n",
              "      <td>compact</td>\n",
              "      <td>convertible</td>\n",
              "      <td>silver</td>\n",
              "      <td>Push Button Hard Top convertible\\nNew Leather ...</td>\n",
              "      <td>33.660700</td>\n",
              "      <td>-117.826400</td>\n",
              "    </tr>\n",
              "    <tr>\n",
              "      <th>108154</th>\n",
              "      <td>western KY</td>\n",
              "      <td>1234567</td>\n",
              "      <td>1977.0</td>\n",
              "      <td>chevrolet</td>\n",
              "      <td>k5</td>\n",
              "      <td>8 cylinders</td>\n",
              "      <td>gas</td>\n",
              "      <td>100000.0</td>\n",
              "      <td>clean</td>\n",
              "      <td>automatic</td>\n",
              "      <td>rwd</td>\n",
              "      <td>full-size</td>\n",
              "      <td>SUV</td>\n",
              "      <td>black</td>\n",
              "      <td>I would like to trade up or down? It can be ne...</td>\n",
              "      <td>37.325400</td>\n",
              "      <td>-88.100500</td>\n",
              "    </tr>\n",
              "    <tr>\n",
              "      <th>109361</th>\n",
              "      <td>chattanooga, TN</td>\n",
              "      <td>99999999</td>\n",
              "      <td>1962.0</td>\n",
              "      <td>ford</td>\n",
              "      <td>falcon futura</td>\n",
              "      <td>6 cylinders</td>\n",
              "      <td>gas</td>\n",
              "      <td>99999.0</td>\n",
              "      <td>clean</td>\n",
              "      <td>automatic</td>\n",
              "      <td>rwd</td>\n",
              "      <td>compact</td>\n",
              "      <td>coupe</td>\n",
              "      <td>black</td>\n",
              "      <td>1962 Ford Falcon 2-Door\\nOriginal Ford I6 144 ...</td>\n",
              "      <td>35.500200</td>\n",
              "      <td>-85.013500</td>\n",
              "    </tr>\n",
              "  </tbody>\n",
              "</table>\n",
              "</div>"
            ],
            "text/plain": [
              "                           city       price  ...        lat        long\n",
              "543                 buffalo, NY    46026000  ...  43.049800  -78.851000\n",
              "11701               atlanta, GA  4045085454  ...  33.695400  -84.248900\n",
              "17862              st cloud, MN     9999999  ...  45.139300  -95.052300\n",
              "18156   spokane / coeur d'alene      625000  ...  47.658400 -117.156800\n",
              "25562             south florida     1700000  ...  25.928600  -80.183000\n",
              "38371           long island, NY  3479272999  ...  40.713500  -73.354600\n",
              "42052        southwest michigan     2400000  ...  41.705100  -86.483800\n",
              "43358              rhode island     1090000  ...  41.668315  -71.601677\n",
              "45826       charlottesville, VA      777777  ...  38.157400  -79.065100\n",
              "61078              north jersey     2099500  ...  40.954800  -73.960200\n",
              "79045      greenville / upstate  1111111111  ...  34.185600  -81.864400\n",
              "79781            janesville, WI     2000000  ...  42.532300  -88.348500\n",
              "84522             kalispell, MT   123456789  ...  48.202800 -114.303900\n",
              "88322         orange county, CA     5800000  ...  33.660700 -117.826400\n",
              "108154               western KY     1234567  ...  37.325400  -88.100500\n",
              "109361          chattanooga, TN    99999999  ...  35.500200  -85.013500\n",
              "\n",
              "[16 rows x 17 columns]"
            ]
          },
          "metadata": {
            "tags": []
          },
          "execution_count": 412
        }
      ]
    },
    {
      "cell_type": "code",
      "metadata": {
        "id": "f2aKvR__CnB5",
        "colab_type": "code",
        "colab": {}
      },
      "source": [
        "ledger.drop(ledger[ledger.price > 500000].index, inplace = True)"
      ],
      "execution_count": 0,
      "outputs": []
    },
    {
      "cell_type": "code",
      "metadata": {
        "id": "iQ55vQVzsHRj",
        "colab_type": "code",
        "outputId": "befa6b4c-c85b-499e-fb0f-fe09b86d7648",
        "colab": {
          "base_uri": "https://localhost:8080/",
          "height": 404
        }
      },
      "source": [
        "plt.figure(figsize=(10,6))\n",
        "ax = sns.distplot(ledger['price'],kde = False)\n",
        "plt.title(\"Year vs count of listings for that price\");"
      ],
      "execution_count": 0,
      "outputs": [
        {
          "output_type": "display_data",
          "data": {
            "image/png": "[encoded data removed]",
            "text/plain": [
              "<Figure size 720x432 with 1 Axes>"
            ]
          },
          "metadata": {
            "tags": []
          }
        }
      ]
    },
    {
      "cell_type": "code",
      "metadata": {
        "id": "2OdpEDA8DIiE",
        "colab_type": "code",
        "outputId": "b1797d7a-00b7-4914-d651-074da66115c5",
        "colab": {
          "base_uri": "https://localhost:8080/",
          "height": 404
        }
      },
      "source": [
        "plt.figure(figsize=(10,6))\n",
        "ax = sns.scatterplot(x=\"price\", y=ledger['price'].value_counts(), hue=ledger['price'].value_counts(), data=ledger)\n",
        "plt.title(\"Car price vs count of listings for that price\");"
      ],
      "execution_count": 0,
      "outputs": [
        {
          "output_type": "display_data",
          "data": {
            "image/png": "[encoded data removed]",
            "text/plain": [
              "<Figure size 720x432 with 1 Axes>"
            ]
          },
          "metadata": {
            "tags": []
          }
        }
      ]
    },
    {
      "cell_type": "markdown",
      "metadata": {
        "id": "C45AywNtFkVF",
        "colab_type": "text"
      },
      "source": [
        "# INITIAL FINDINGS\n",
        "\n",
        "The initial analysis of the dataset reveals that there are many outliers in the dataset.  Multiple void values were removed and for accurate predictions I have removed rows with prices less than 200 dollars and prices greater than 5,00,000 dollars. The scatterplot tells that there are many listings (maximum) for the cars worth of around 16,000 dollars. There is a cluster of car listings within a range of price 10,000 to 50,000 dollars. there is another cluster at around price value 200 dollar. However there are other useful columns with which I can perform the comparison of data sets with respect to different car brands and the city location. This will help in predicting the used car's prices."
      ]
    },
    {
      "cell_type": "markdown",
      "metadata": {
        "id": "a3RHYEY_NVHa",
        "colab_type": "text"
      },
      "source": [
        "# REFERENCES\n",
        "\n",
        "Austin Reese (2019) \"Used Cars Dataset\" Vehicles listings from Craigslist.org. Available at: https://www.kaggle.com/austinreese/craigslist-carstrucks-data/version/7.\n",
        "\n",
        "\n",
        "Tomesh, T. (2019). titanic.ipynb. Available at: https://colab.research.google.com/drive/1KftGp4lGzd7PJuKWq9qDv3xnxiQbwhwY#scrollTo=Y2tOGJ2UYPVi [Accessed 16 Aug. 2019].\n",
        "\n",
        "\n",
        "Stach Overflow (2019) Available at https://stackoverflow.com/questions/33165734/update-index-after-sorting-data-frame [Accessed 17 Aug 2019]\n",
        "\n",
        "\n",
        "TutorialsPoint (2019 )Available at https://www.tutorialspoint.com/python_pandas/python_pandas_dataframe.html [Accessed 18 Aug 2019]\n",
        "\n",
        "\n",
        "Chris ALbon (2017), \"Using Seaborn To Visualize A pandas Dataframe\"  Available at: https://chrisalbon.com/python/data_wrangling/pandas_with_seaborn/  [Accessed 18 Aug 2019]"
      ]
    }
  ]
}