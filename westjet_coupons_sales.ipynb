{
  "nbformat": 4,
  "nbformat_minor": 0,
  "metadata": {
    "colab": {
      "name": "westjet coupons-sales",
      "version": "0.3.2",
      "provenance": [],
      "collapsed_sections": [],
      "include_colab_link": true
    },
    "kernelspec": {
      "name": "python3",
      "display_name": "Python 3"
    }
  },
  "cells": [
    {
      "cell_type": "markdown",
      "metadata": {
        "id": "view-in-github",
        "colab_type": "text"
      },
      "source": [
        "<a href=\"https://colab.research.google.com/github/jashanmalhi/Data-Analysis/blob/master/westjet_coupons_sales.ipynb\" target=\"_parent\"><img src=\"https://colab.research.google.com/assets/colab-badge.svg\" alt=\"Open In Colab\"/></a>"
      ]
    },
    {
      "cell_type": "markdown",
      "metadata": {
        "id": "e7FU6Ndf_8t4",
        "colab_type": "text"
      },
      "source": [
        "**A Python Notebook to gather discount coupons from WestJet's twitter page**\n",
        "\n",
        "While I was working at the airport last week, I met my friend who is working for the WestJet airlines, she told me about the offers they get as an employee. I wondered how to be aware of the sale on flight tickets offered by the airlines. So I decided to scrap the twitter page of an airline 'WestJet' to gather the sale information. The information can be useful in planning the summer vacations by various customers. On my side, if I could gather the frequency and the amount of offered sale by different airlines then can make a prediction of their sales. In this notebook I will only gather the tweets that contain the sales keyword  by using the packages: Requests and BeautifulSoup."
      ]
    },
    {
      "cell_type": "code",
      "metadata": {
        "id": "06AT6S_XB6zj",
        "colab_type": "code",
        "colab": {}
      },
      "source": [
        " #importing libraries\n",
        "import requests \n",
        "from bs4 import BeautifulSoup\n",
        "import re"
      ],
      "execution_count": 0,
      "outputs": []
    },
    {
      "cell_type": "markdown",
      "metadata": {
        "id": "KwHDG5zsxoxL",
        "colab_type": "text"
      },
      "source": [
        "To begin with the scraping process we first need to know the url of the WestJet twitter page. I opened my favourite browser and logged into my twitter account. Then in the search bar typed WestJet. The second link looked the original WestJet link s I decided to go with that.\n",
        "\n",
        "<a href=\"https://ibb.co/9mXYh5R\"><img src=\"https://i.ibb.co/Fkv7XTG/westjet.png\" alt=\"westjet\" border=\"0\"></a>\n",
        "\n"
      ]
    },
    {
      "cell_type": "code",
      "metadata": {
        "id": "-90a9KkECEZR",
        "colab_type": "code",
        "colab": {}
      },
      "source": [
        "url = 'https://twitter.com/WestJet'\n",
        "page = requests.get(url)\n",
        "soup = BeautifulSoup(page.text, \"html.parser\")"
      ],
      "execution_count": 0,
      "outputs": []
    },
    {
      "cell_type": "code",
      "metadata": {
        "id": "84fqO0dqCOi8",
        "colab_type": "code",
        "colab": {}
      },
      "source": [
        "coupon = soup.findAll(\"p\",{\"class\":\"TweetTextSize TweetTextSize--normal js-tweet-text tweet-text\"})"
      ],
      "execution_count": 0,
      "outputs": []
    },
    {
      "cell_type": "markdown",
      "metadata": {
        "id": "LENN7-yDdCE6",
        "colab_type": "text"
      },
      "source": [
        "In the following cell, I have gathered all the tweets having the sale word in it. The tweets reveal the sales on various flights and tell the deals available with a WestJet booking. Having the information, I am able to tell that most of the sale is for a year advance booking of the flights. This information is useful to me as I can plan my next year's trips and can calculate how much I can save with an advance booking."
      ]
    },
    {
      "cell_type": "code",
      "metadata": {
        "id": "XX59MVkkWHMf",
        "colab_type": "code",
        "outputId": "66ec8681-70a2-4e86-f706-5ef8115a2f12",
        "colab": {
          "base_uri": "https://localhost:8080/",
          "height": 919
        }
      },
      "source": [
        "i=1\n",
        "for mytag in coupon:\n",
        "  print(i,\")\", mytag.get_text(\"sale \"))\n",
        "  i=i+1"
      ],
      "execution_count": 0,
      "outputs": [
        {
          "output_type": "stream",
          "text": [
            "1 ) What's better than one Dreamliner? Two Dreamliners. \n",
            "\n",
            "Photo via ace.yyc sale  sale #sale WestJet787sale pic.twitter.com/bsP7JqlFcg\n",
            "2 ) Dream Craft All-Canadian Ale. A limited-edition beer celebrating our sale #sale WestJet787sale  Dreamliner. Best enjoyed at 40,000 ft. sale pic.twitter.com/3ikg003SJI\n",
            "3 ) You should go to Paris for the food, the fashion, the scenery, the sheer joie de vivre . . . sale  sale #sale WestJetsale pic.twitter.com/HSE51KkKQE\n",
            "4 ) Excuse us, coming through. \n",
            "\n",
            "Photo via simon_fontimpe on Instagram sale pic.twitter.com/NzhlKHx3Ri\n",
            "5 ) In 2014, we took our first ever transatlantic flight to Dublin, Ireland! Tonight, our sale #sale WestJet787sale  Dreamliner departs on our new direct service from sale @sale FlyYYCsale  to sale @sale DublinAirportsale . This service will be offered three times weekly. sale  sale http://sale fly.ws/VzwIMhsale  sale pic.twitter.com/0rpRPQU6vQ\n",
            "6 ) It's never too early to start planning next year's trip to see the cherry blossoms in Victoria. sale http://sale fly.ws/ITJMepsale  sale \n",
            "\n",
            "Photo via emgemstone on Instagram sale  sale #sale WestJetsale pic.twitter.com/cjwMQqmkil\n",
            "7 ) They fly alongside you for your comfort but more importantly your safety. We truly believe the best of the best fly in sale #sale WestJetsale 's skies. To our dedicated cabin crew members, thank you for all that you do. Happy International sale #sale FlightAttendantDaysale ! sale pic.twitter.com/vNiaJ1rxii\n",
            "8 ) The last time you were in sale #sale Winnipegsale , what did you do? sale http://sale fly.ws/41Fvdrsale  sale \n",
            "\n",
            "Photo via nickpollettphoto on Instagram sale  sale #sale WestJetsale pic.twitter.com/84xazJJa3z\n",
            "9 ) Some cities are known for great food, some for beautiful scenery and others for high culture at every turn. San Francisco is blessed with all three. sale http://sale fly.ws/jtCu1csale  sale \n",
            "\n",
            "Photo via sashastories on Instagram sale  sale #sale WestJetsale pic.twitter.com/gP7KVfgukR\n",
            "10 ) This sale #sale WingletWednesdaysale  we're flying over the bright blue waters of Punta Cana, Dominican Republic. sale http://sale fly.ws/wmaoFUsale  sale \n",
            "\n",
            "Photo via mirandajasminekg on Instagram sale  sale #sale WestJetsale pic.twitter.com/F1DjLaUs9U\n",
            "11 ) Who's ready for Vancouver nights? sale http://sale fly.ws/kWpuzdsale  sale \n",
            "\n",
            "Photo via sukhmedia on Instagram sale  sale #sale WestJetsale pic.twitter.com/aWn1pYaYMy\n",
            "12 ) In Gros Morne National Park, you'll find without a doubt one of Canada's most stunning sights. sale http://sale fly.ws/zTs73Tsale  sale \n",
            "\n",
            "Photo via swamp_picz on Instagram sale  sale #sale WestJetsale pic.twitter.com/9OXyCEChiH\n",
            "13 ) We spent the past few days exploring our newest destination, sale #sale Barcelonasale ! We fell in love with the architecture, views and food! Stay tuned for our Barcelona travel tips. sale  sale  sale #sale WestJetsale pic.twitter.com/GfZzQWLsiu\n",
            "14 ) What's cooler than being cool? sale #sale FrozenPlanesale \n",
            "\n",
            "Photo via eyetrapperyvr on Instagram sale  sale #sale WestJetsale pic.twitter.com/jG2GOebubY\n",
            "15 ) In Fort Lauderdale, you'll be greeted by a cosmopolitan, cool and relaxed atmosphere. You'll immediately understand why this beach playground is called the “Venice of America.” sale http://sale fly.ws/kc5IZFsale  sale \n",
            "\n",
            "Photo via miami_na_provode on Instagram sale  sale #sale WestJetsale pic.twitter.com/mCKfOpVajO\n",
            "16 ) New Monday. New week. Let's do this!\n",
            "\n",
            "Photo via yhz_flyer on Instagram sale  sale #sale WestJet787sale pic.twitter.com/XTEDf5vmju\n",
            "17 ) Hola, Barcelona! We’re excited to be taking off to our new destination from sale @sale TorontoPearsonsale  tonight. This new service will be offered three times a week, bringing you closer to some of world’s most captivating architecture, food and scenery. sale  sale http://sale fly.ws/t9E2MYsale  sale pic.twitter.com/UztInmAlO5\n",
            "18 ) Collect more Hawaiian moments sale . sale http://sale fly.ws/TfHuK6sale  sale \n",
            "\n",
            "Photo via jason_bowen on Instagram sale  sale #sale WestJetsale pic.twitter.com/L7VEFsEBlU\n",
            "19 ) Like its counterpart in France, Montreal is full of culinary, historical, cultural and aesthetic attractions. sale http://sale fly.ws/XLaTHtsale  sale \n",
            "\n",
            "Photo via offtomontreal on Instagram sale  sale #sale WestJetsale pic.twitter.com/5UG5IILwF9\n",
            "20 ) Let's go! sale #sale WestJetEncoresale \n",
            "\n",
            "Photo via bos.spotter75 on Instagram sale pic.twitter.com/4PWnzT3oiS\n"
          ],
          "name": "stdout"
        }
      ]
    },
    {
      "cell_type": "markdown",
      "metadata": {
        "id": "kw-kb3GJpcTr",
        "colab_type": "text"
      },
      "source": [
        "\n",
        "\n",
        "With the processing of raw data i am able to find the useful tweets which helped me in knowing the sale season for the WestJet airlines.\n",
        "\n"
      ]
    },
    {
      "cell_type": "code",
      "metadata": {
        "id": "5tPyAoYAifuo",
        "colab_type": "code",
        "colab": {}
      },
      "source": [
        ""
      ],
      "execution_count": 0,
      "outputs": []
    },
    {
      "cell_type": "code",
      "metadata": {
        "id": "X6P9KbyYqIst",
        "colab_type": "code",
        "colab": {}
      },
      "source": [
        ""
      ],
      "execution_count": 0,
      "outputs": []
    }
  ]
}