{
  "nbformat": 4,
  "nbformat_minor": 0,
  "metadata": {
    "colab": {
      "name": "Used Cars Dataset",
      "version": "0.3.2",
      "provenance": [],
      "collapsed_sections": [],
      "toc_visible": true,
      "include_colab_link": true
    },
    "kernelspec": {
      "display_name": "Python 3",
      "name": "python3"
    }
  },
  "cells": [
    {
      "cell_type": "markdown",
      "metadata": {
        "id": "view-in-github",
        "colab_type": "text"
      },
      "source": [
        "<a href=\"https://colab.research.google.com/github/jashanmalhi/Data-Analysis/blob/master/Used_Cars_Data_Modelling.ipynb\" target=\"_parent\"><img src=\"https://colab.research.google.com/assets/colab-badge.svg\" alt=\"Open In Colab\"/></a>"
      ]
    },
    {
      "cell_type": "markdown",
      "metadata": {
        "colab_type": "text",
        "id": "5fCEDCU_qrC0"
      },
      "source": [
        "<p><img alt=\"Colaboratory logo\" height=\"45px\" src=\"https://colab.research.google.com/img/colab_favicon.ico\" align=\"left\" hspace=\"10px\" vspace=\"0px\"></p>\n",
        "\n",
        "\n",
        "\n",
        "<h1>The Used Cars Dataset Modelling</h1>\n",
        "\n",
        "###Jashneet Kaur\n",
        "###jks888@uregina.ca, Id 200380410\n",
        "###University of Regina\n",
        "###Spring / Summer 2019"
      ]
    },
    {
      "cell_type": "markdown",
      "metadata": {
        "colab_type": "text",
        "id": "GJBs_flRovLc"
      },
      "source": [
        "\n",
        "## INRTRODUCTION\n",
        "\n",
        "###Scikit Algorithm \n",
        "I have an option of two scikit algorithms from the figure provided in the assignment. I can select any one from the two algorithms, either Lasso or ElasticNet.\n",
        "\n",
        "###Process and Justification\n",
        "I have started to look for the algorithm from the provided figure itself. I have traced the figure with my requirements with the following steps:\n",
        "####1: started and I have more than 50 dataset values\n",
        "####2: I am not predicting a category. I am working on to predict a quantity that is I am analysing the statics of car pricing factors.\n",
        "####3: I have less than 100k data set values so i move further in that direction from the figure.\n",
        "####4: Now a few features are important to predict the car price like its transmission, odometer value, make and year of manufacturing. \n",
        "####5: I am a little confused while choosing the few features or more features for teh car price prediction. Hence, I have decided to implement the Lasso algorithm and the Ridge regression algorithm to see the prediction outcomes. In the end I will choose one of the two algorithms, which gives me better prediction ratios. So I have two modelling algorithms to implement in the upcoming sections.\n",
        "####  Lasso\n",
        "####  Ridge Regression\n",
        "  \n",
        "###Algorithm Working\n",
        "\n",
        "\n",
        "NOTE: Here is a link to the file for better visuals : \n",
        "https://nbviewer.jupyter.org/github/jashanmalhi/Data-Analysis/blob/master/Used_Cars_Dataset.ipynb"
      ]
    },
    {
      "cell_type": "code",
      "metadata": {
        "id": "kcpI8pi9PWv_",
        "colab_type": "code",
        "colab": {
          "base_uri": "https://localhost:8080/",
          "height": 125
        },
        "outputId": "774cee93-b29d-4d0e-8882-8ee8fa2533d0"
      },
      "source": [
        "from google.colab import drive\n",
        "drive.mount('/content/gdrive')"
      ],
      "execution_count": 1,
      "outputs": [
        {
          "output_type": "stream",
          "text": [
            "Go to this URL in a browser: https://accounts.google.com/o/oauth2/auth?client_id=947318989803-6bn6qk8qdgf4n4g3pfee6491hc0brc4i.apps.googleusercontent.com&redirect_uri=urn%3Aietf%3Awg%3Aoauth%3A2.0%3Aoob&scope=email%20https%3A%2F%2Fwww.googleapis.com%2Fauth%2Fdocs.test%20https%3A%2F%2Fwww.googleapis.com%2Fauth%2Fdrive%20https%3A%2F%2Fwww.googleapis.com%2Fauth%2Fdrive.photos.readonly%20https%3A%2F%2Fwww.googleapis.com%2Fauth%2Fpeopleapi.readonly&response_type=code\n",
            "\n",
            "Enter your authorization code:\n",
            "··········\n",
            "Mounted at /content/gdrive\n"
          ],
          "name": "stdout"
        }
      ]
    },
    {
      "cell_type": "code",
      "metadata": {
        "id": "kLBmjRX0kIHT",
        "colab_type": "code",
        "colab": {}
      },
      "source": [
        "cd gdrive"
      ],
      "execution_count": 0,
      "outputs": []
    },
    {
      "cell_type": "code",
      "metadata": {
        "id": "xNVwC1Kbj58-",
        "colab_type": "code",
        "colab": {
          "base_uri": "https://localhost:8080/",
          "height": 34
        },
        "outputId": "f8089a55-534f-4379-a81a-bc9b36fe93bf"
      },
      "source": [
        "cd My Drive"
      ],
      "execution_count": 7,
      "outputs": [
        {
          "output_type": "stream",
          "text": [
            "/content/gdrive/My Drive\n"
          ],
          "name": "stdout"
        }
      ]
    },
    {
      "cell_type": "code",
      "metadata": {
        "id": "EL3NKAOdn53E",
        "colab_type": "code",
        "colab": {}
      },
      "source": [
        "\n",
        "#Importing the required libraries\n",
        "import numpy as np\n",
        "import pandas as pd\n",
        "import os\n",
        "import matplotlib.pyplot as plt\n",
        "import seaborn as sns\n",
        "from IPython.display import Image\n",
        "from sklearn.decomposition import PCA\n",
        "from sklearn.preprocessing import StandardScaler\n",
        "#read the file data into a ledger variable\n",
        "ledger = pd.read_csv('CarList.csv') \n",
        "#delete the columns"
      ],
      "execution_count": 0,
      "outputs": []
    },
    {
      "cell_type": "code",
      "metadata": {
        "id": "Mg15WDSGxuqH",
        "colab_type": "code",
        "colab": {}
      },
      "source": [
        "del ledger[\"url\"]\n",
        "del ledger[\"city_url\"]\n",
        "del ledger[\"VIN\"]\n",
        "del ledger[\"image_url\"]\n",
        "del ledger[\"condition\"]"
      ],
      "execution_count": 0,
      "outputs": []
    },
    {
      "cell_type": "code",
      "metadata": {
        "id": "zValcM2bV4hF",
        "colab_type": "code",
        "colab": {}
      },
      "source": [
        "\n",
        "#I have used the dropna command for all the rows where even any one column value is missing.\n",
        "ledger = ledger.dropna()\n",
        "#delete the rows where year < 1960 and price < 200 \n",
        "ledger.drop(ledger[ledger.price < 200].index, inplace = True)\n",
        "ledger.drop(ledger[ledger.year < 1960].index, inplace = True)\n",
        "#sorted the listings by the year of manufacture in descending order\n",
        "ledger.sort_values([\"year\"], ascending=False, inplace=True)\n",
        "ledger.drop(ledger[ledger.price > 125000].index, inplace = True)\n",
        "ledger.drop(ledger[ledger.odometer < 1000].index, inplace = True)\n",
        "ledger = ledger.reset_index(drop=True)\n"
      ],
      "execution_count": 0,
      "outputs": []
    },
    {
      "cell_type": "code",
      "metadata": {
        "id": "2OdpEDA8DIiE",
        "colab_type": "code",
        "colab": {}
      },
      "source": [
        "plt.figure(figsize=(15,6))\n",
        "ax = sns.scatterplot(x=\"price\", y=ledger['price'].value_counts(), hue=ledger['price'].value_counts(), data=ledger)\n",
        "plt.xlabel(\"Price of Car\")\n",
        "plt.ylabel(\"Number of listings\")\n",
        "plt.title(\"Car price vs count of listings for that price\")"
      ],
      "execution_count": 0,
      "outputs": []
    },
    {
      "cell_type": "markdown",
      "metadata": {
        "id": "yGkLiU7KilQt",
        "colab_type": "text"
      },
      "source": [
        "# ALGORITHM APPLICATION\n",
        "\n",
        "###Implementation\n",
        "\n",
        "####Model Creation \n",
        "\n",
        "####Data Preparation"
      ]
    },
    {
      "cell_type": "code",
      "metadata": {
        "id": "6j0_sYmihHJS",
        "colab_type": "code",
        "colab": {}
      },
      "source": [
        "data = ledger\n",
        "X = data[['year', 'odometer']]\n",
        "Y = data['price']\n",
        "x_odometer = X.drop(['year'],axis=1)\n",
        "x_year = X.drop(['odometer'],axis=1)"
      ],
      "execution_count": 0,
      "outputs": []
    },
    {
      "cell_type": "code",
      "metadata": {
        "id": "GCkWpuWvyLHp",
        "colab_type": "code",
        "colab": {
          "base_uri": "https://localhost:8080/",
          "height": 1000
        },
        "outputId": "803867cd-11b1-4f1e-d159-3bfc48b19ae0"
      },
      "source": [
        "print(X)"
      ],
      "execution_count": 237,
      "outputs": [
        {
          "output_type": "stream",
          "text": [
            "          year  odometer\n",
            "0       2020.0    6120.0\n",
            "1       2019.0    4500.0\n",
            "2       2019.0    4233.0\n",
            "3       2019.0   17969.0\n",
            "4       2019.0   13058.0\n",
            "5       2019.0    9410.0\n",
            "6       2019.0    6000.0\n",
            "7       2019.0   13664.0\n",
            "8       2019.0    7500.0\n",
            "9       2019.0    4390.0\n",
            "10      2019.0   18954.0\n",
            "11      2019.0    3341.0\n",
            "12      2019.0    4660.0\n",
            "13      2019.0    5000.0\n",
            "14      2019.0    3000.0\n",
            "15      2019.0   64232.0\n",
            "16      2019.0    3346.0\n",
            "17      2019.0   14630.0\n",
            "18      2019.0    3485.0\n",
            "19      2019.0    1745.0\n",
            "20      2019.0    4876.0\n",
            "21      2019.0    4433.0\n",
            "22      2019.0    2850.0\n",
            "23      2019.0   11542.0\n",
            "24      2019.0    2092.0\n",
            "25      2019.0    4638.0\n",
            "26      2019.0    2150.0\n",
            "27      2019.0   21580.0\n",
            "28      2019.0   14382.0\n",
            "29      2019.0   12914.0\n",
            "...        ...       ...\n",
            "107376  1961.0   60100.0\n",
            "107377  1961.0   36000.0\n",
            "107378  1961.0   44000.0\n",
            "107379  1961.0   28496.0\n",
            "107380  1961.0   50992.0\n",
            "107381  1961.0  100000.0\n",
            "107382  1961.0    6800.0\n",
            "107383  1961.0  960543.0\n",
            "107384  1961.0   15922.0\n",
            "107385  1961.0   35000.0\n",
            "107386  1961.0   64000.0\n",
            "107387  1961.0   88000.0\n",
            "107388  1961.0   65000.0\n",
            "107389  1961.0   33500.0\n",
            "107390  1961.0   15922.0\n",
            "107391  1961.0   35000.0\n",
            "107392  1960.0  124000.0\n",
            "107393  1960.0   54000.0\n",
            "107394  1960.0   76000.0\n",
            "107395  1960.0   49603.0\n",
            "107396  1960.0  100000.0\n",
            "107397  1960.0   49220.0\n",
            "107398  1960.0    5874.0\n",
            "107399  1960.0    5874.0\n",
            "107400  1960.0   36587.0\n",
            "107401  1960.0    5874.0\n",
            "107402  1960.0   61000.0\n",
            "107403  1960.0   62000.0\n",
            "107404  1960.0    5000.0\n",
            "107405  1960.0   94101.0\n",
            "\n",
            "[107406 rows x 2 columns]\n"
          ],
          "name": "stdout"
        }
      ]
    },
    {
      "cell_type": "code",
      "metadata": {
        "id": "u_2yaxo2s2CJ",
        "colab_type": "code",
        "colab": {}
      },
      "source": [
        "#x = StandardScaler().fit_transform(x)\n",
        "pd.DataFrame(data = x)"
      ],
      "execution_count": 0,
      "outputs": []
    },
    {
      "cell_type": "code",
      "metadata": {
        "id": "9euXogzGi53Z",
        "colab_type": "code",
        "colab": {}
      },
      "source": [
        "pca = PCA(n_components=1)\n",
        "principalComponents = pca.fit_transform(X)\n",
        "#print(principalComponents)"
      ],
      "execution_count": 0,
      "outputs": []
    },
    {
      "cell_type": "code",
      "metadata": {
        "id": "wxPow1YJx5YM",
        "colab_type": "code",
        "colab": {
          "base_uri": "https://localhost:8080/",
          "height": 34
        },
        "outputId": "dd177dca-4398-4bec-84df-9ecb4960eeac"
      },
      "source": [
        "print(type(principalComponents))"
      ],
      "execution_count": 235,
      "outputs": [
        {
          "output_type": "stream",
          "text": [
            "<class 'numpy.ndarray'>\n"
          ],
          "name": "stdout"
        }
      ]
    },
    {
      "cell_type": "code",
      "metadata": {
        "id": "Dz7CstZVyAqM",
        "colab_type": "code",
        "colab": {
          "base_uri": "https://localhost:8080/",
          "height": 34
        },
        "outputId": "30e671af-c6c7-49b4-d66c-9437db8d179d"
      },
      "source": [
        "print(type(Y))"
      ],
      "execution_count": 236,
      "outputs": [
        {
          "output_type": "stream",
          "text": [
            "<class 'pandas.core.series.Series'>\n"
          ],
          "name": "stdout"
        }
      ]
    },
    {
      "cell_type": "code",
      "metadata": {
        "id": "b67Gpl99pcXM",
        "colab_type": "code",
        "colab": {
          "base_uri": "https://localhost:8080/",
          "height": 337
        },
        "outputId": "3a3cf08e-c05c-46c4-a364-6bdda21bcffe"
      },
      "source": [
        "finalDf = pd.concat([principalComponents, Y],axis=1)"
      ],
      "execution_count": 234,
      "outputs": [
        {
          "output_type": "error",
          "ename": "TypeError",
          "evalue": "ignored",
          "traceback": [
            "\u001b[0;31m---------------------------------------------------------------------------\u001b[0m",
            "\u001b[0;31mTypeError\u001b[0m                                 Traceback (most recent call last)",
            "\u001b[0;32m<ipython-input-234-4248d4f7a604>\u001b[0m in \u001b[0;36m<module>\u001b[0;34m()\u001b[0m\n\u001b[0;32m----> 1\u001b[0;31m \u001b[0mfinalDf\u001b[0m \u001b[0;34m=\u001b[0m \u001b[0mpd\u001b[0m\u001b[0;34m.\u001b[0m\u001b[0mconcat\u001b[0m\u001b[0;34m(\u001b[0m\u001b[0;34m[\u001b[0m\u001b[0mprincipalComponents\u001b[0m\u001b[0;34m,\u001b[0m \u001b[0mY\u001b[0m\u001b[0;34m]\u001b[0m\u001b[0;34m,\u001b[0m\u001b[0maxis\u001b[0m\u001b[0;34m=\u001b[0m\u001b[0;36m1\u001b[0m\u001b[0;34m)\u001b[0m\u001b[0;34m\u001b[0m\u001b[0;34m\u001b[0m\u001b[0m\n\u001b[0m",
            "\u001b[0;32m/usr/local/lib/python3.6/dist-packages/pandas/core/reshape/concat.py\u001b[0m in \u001b[0;36mconcat\u001b[0;34m(objs, axis, join, join_axes, ignore_index, keys, levels, names, verify_integrity, sort, copy)\u001b[0m\n\u001b[1;32m    226\u001b[0m                        \u001b[0mkeys\u001b[0m\u001b[0;34m=\u001b[0m\u001b[0mkeys\u001b[0m\u001b[0;34m,\u001b[0m \u001b[0mlevels\u001b[0m\u001b[0;34m=\u001b[0m\u001b[0mlevels\u001b[0m\u001b[0;34m,\u001b[0m \u001b[0mnames\u001b[0m\u001b[0;34m=\u001b[0m\u001b[0mnames\u001b[0m\u001b[0;34m,\u001b[0m\u001b[0;34m\u001b[0m\u001b[0;34m\u001b[0m\u001b[0m\n\u001b[1;32m    227\u001b[0m                        \u001b[0mverify_integrity\u001b[0m\u001b[0;34m=\u001b[0m\u001b[0mverify_integrity\u001b[0m\u001b[0;34m,\u001b[0m\u001b[0;34m\u001b[0m\u001b[0;34m\u001b[0m\u001b[0m\n\u001b[0;32m--> 228\u001b[0;31m                        copy=copy, sort=sort)\n\u001b[0m\u001b[1;32m    229\u001b[0m     \u001b[0;32mreturn\u001b[0m \u001b[0mop\u001b[0m\u001b[0;34m.\u001b[0m\u001b[0mget_result\u001b[0m\u001b[0;34m(\u001b[0m\u001b[0;34m)\u001b[0m\u001b[0;34m\u001b[0m\u001b[0;34m\u001b[0m\u001b[0m\n\u001b[1;32m    230\u001b[0m \u001b[0;34m\u001b[0m\u001b[0m\n",
            "\u001b[0;32m/usr/local/lib/python3.6/dist-packages/pandas/core/reshape/concat.py\u001b[0m in \u001b[0;36m__init__\u001b[0;34m(self, objs, axis, join, join_axes, keys, levels, names, ignore_index, verify_integrity, copy, sort)\u001b[0m\n\u001b[1;32m    287\u001b[0m                        \u001b[0;34m' only pd.Series, pd.DataFrame, and pd.Panel'\u001b[0m\u001b[0;34m\u001b[0m\u001b[0;34m\u001b[0m\u001b[0m\n\u001b[1;32m    288\u001b[0m                        ' (deprecated) objs are valid'.format(type(obj)))\n\u001b[0;32m--> 289\u001b[0;31m                 \u001b[0;32mraise\u001b[0m \u001b[0mTypeError\u001b[0m\u001b[0;34m(\u001b[0m\u001b[0mmsg\u001b[0m\u001b[0;34m)\u001b[0m\u001b[0;34m\u001b[0m\u001b[0;34m\u001b[0m\u001b[0m\n\u001b[0m\u001b[1;32m    290\u001b[0m \u001b[0;34m\u001b[0m\u001b[0m\n\u001b[1;32m    291\u001b[0m             \u001b[0;31m# consolidate\u001b[0m\u001b[0;34m\u001b[0m\u001b[0;34m\u001b[0m\u001b[0;34m\u001b[0m\u001b[0m\n",
            "\u001b[0;31mTypeError\u001b[0m: cannot concatenate object of type \"<class 'numpy.ndarray'>\"; only pd.Series, pd.DataFrame, and pd.Panel (deprecated) objs are valid"
          ]
        }
      ]
    },
    {
      "cell_type": "markdown",
      "metadata": {
        "id": "xAZJC9Zv6sdg",
        "colab_type": "text"
      },
      "source": [
        "Implementing the Linear regression and calculating the mean squared error value for comparison"
      ]
    },
    {
      "cell_type": "code",
      "metadata": {
        "id": "piCkY4T-6gqx",
        "colab_type": "code",
        "colab": {
          "base_uri": "https://localhost:8080/",
          "height": 34
        },
        "outputId": "b858c357-c45a-4526-8646-326ac304b802"
      },
      "source": [
        "from sklearn.model_selection import cross_val_score\n",
        "from sklearn.linear_model import LinearRegression\n",
        "from sklearn.metrics import mean_squared_error, r2_score\n",
        "\n",
        "lin_reg = LinearRegression()\n",
        "\n",
        "MSEs = cross_val_score(lin_reg, X, Y, scoring='neg_mean_squared_error', cv=5)\n",
        "\n",
        "mean_MSE = np.mean(MSEs)\n",
        "\n",
        "mean_MSE"
      ],
      "execution_count": 109,
      "outputs": [
        {
          "output_type": "execute_result",
          "data": {
            "text/plain": [
              "-161331181.26185983"
            ]
          },
          "metadata": {
            "tags": []
          },
          "execution_count": 109
        }
      ]
    },
    {
      "cell_type": "code",
      "metadata": {
        "id": "pKtvR_BmJf3k",
        "colab_type": "code",
        "colab": {}
      },
      "source": [
        "lin_reg.fit(x_odometer, Y)\n",
        "\n",
        "y_predicted = lin_reg.predict(x_odometer)\n",
        "\n",
        "# model evaluation\n",
        "rmse = mean_squared_error(Y, y_predicted)\n",
        "r2 = r2_score(Y, y_predicted)\n",
        "\n",
        "# printing values\n",
        "print('Slope:' ,lin_reg.coef_)\n",
        "print('Intercept:', lin_reg.intercept_)\n",
        "print('Root mean squared error: ', rmse)\n",
        "print('R2 score: ', r2)\n",
        "\n",
        "# plotting values\n",
        "\n",
        "# data points\n",
        "plt.scatter(x_odometer, Y, s=10)\n",
        "plt.xlabel('x')\n",
        "plt.ylabel('y')\n",
        "\n",
        "# predicted values\n",
        "plt.plot(x_odometer, y_predicted, color='r')\n",
        "plt.show()\n"
      ],
      "execution_count": 0,
      "outputs": []
    },
    {
      "cell_type": "markdown",
      "metadata": {
        "id": "PwyQLNx66386",
        "colab_type": "text"
      },
      "source": [
        "Implementing the Ridge regression and calculating the best score for the prediction"
      ]
    },
    {
      "cell_type": "code",
      "metadata": {
        "id": "_UQ0Q-kcvqPy",
        "colab_type": "code",
        "colab": {}
      },
      "source": [
        "from sklearn.model_selection import GridSearchCV\n",
        "from sklearn.linear_model import Ridge\n",
        "\n",
        "alpha = [1e-15, 1e-10, 1e-8, 1e-4, 1e-3,1e-2, 1, 5, 10, 20]\n",
        "\n",
        "ridge = Ridge()\n",
        "\n",
        "parameters = {'alpha': [1e-15, 1e-10, 1e-8, 1e-4, 1e-3,1e-2, 1, 5, 10, 20]}\n",
        "\n",
        "ridge_regressor = GridSearchCV(ridge, parameters,scoring='neg_mean_squared_error', cv=5)\n",
        "\n",
        "ridge_regressor.fit(X, Y)"
      ],
      "execution_count": 0,
      "outputs": []
    },
    {
      "cell_type": "code",
      "metadata": {
        "id": "7tgVxD4F1PVr",
        "colab_type": "code",
        "colab": {
          "base_uri": "https://localhost:8080/",
          "height": 34
        },
        "outputId": "c003655e-742f-414a-f7dd-2aebe894feda"
      },
      "source": [
        "ridge_regressor.best_params_"
      ],
      "execution_count": 91,
      "outputs": [
        {
          "output_type": "execute_result",
          "data": {
            "text/plain": [
              "{'alpha': 20}"
            ]
          },
          "metadata": {
            "tags": []
          },
          "execution_count": 91
        }
      ]
    },
    {
      "cell_type": "code",
      "metadata": {
        "id": "jSVH7b6b1c_2",
        "colab_type": "code",
        "colab": {
          "base_uri": "https://localhost:8080/",
          "height": 34
        },
        "outputId": "3de8eabe-f2d3-4d23-ad73-35a9cbcf227c"
      },
      "source": [
        "ridge_regressor.best_score_"
      ],
      "execution_count": 92,
      "outputs": [
        {
          "output_type": "execute_result",
          "data": {
            "text/plain": [
              "-161328541.14129293"
            ]
          },
          "metadata": {
            "tags": []
          },
          "execution_count": 92
        }
      ]
    },
    {
      "cell_type": "markdown",
      "metadata": {
        "id": "FTOTV6EQ7ROf",
        "colab_type": "text"
      },
      "source": [
        "Implementing the Lasso and calculating the best score for the prediction"
      ]
    },
    {
      "cell_type": "code",
      "metadata": {
        "id": "V8pkXiNe1uJF",
        "colab_type": "code",
        "colab": {}
      },
      "source": [
        "from sklearn.linear_model import Lasso\n",
        "\n",
        "lasso = Lasso()\n",
        "\n",
        "parameters = {'alpha': [1e-15, 1e-10, 1e-8, 1e-4, 1e-3,1e-2, 1, 5, 10, 20]}\n",
        "\n",
        "lasso_regressor = GridSearchCV(lasso, parameters, scoring='neg_mean_squared_error', cv = 5)\n",
        "\n",
        "pca = PCA(n_components=1)\n",
        "\n",
        "lasso_regressor.fit(X, Y)"
      ],
      "execution_count": 0,
      "outputs": []
    },
    {
      "cell_type": "code",
      "metadata": {
        "id": "hFomsHg1126i",
        "colab_type": "code",
        "colab": {
          "base_uri": "https://localhost:8080/",
          "height": 34
        },
        "outputId": "14b48192-5e19-4755-b686-71ee5e8cb8d7"
      },
      "source": [
        "lasso_regressor.best_params_"
      ],
      "execution_count": 122,
      "outputs": [
        {
          "output_type": "execute_result",
          "data": {
            "text/plain": [
              "{'alpha': 20}"
            ]
          },
          "metadata": {
            "tags": []
          },
          "execution_count": 122
        }
      ]
    },
    {
      "cell_type": "code",
      "metadata": {
        "id": "BZp6KV1r14R_",
        "colab_type": "code",
        "colab": {
          "base_uri": "https://localhost:8080/",
          "height": 34
        },
        "outputId": "24afad66-34e2-48dc-f3be-5e3168fffc14"
      },
      "source": [
        "lasso_regressor.best_score_"
      ],
      "execution_count": 123,
      "outputs": [
        {
          "output_type": "execute_result",
          "data": {
            "text/plain": [
              "-153790580.33164105"
            ]
          },
          "metadata": {
            "tags": []
          },
          "execution_count": 123
        }
      ]
    },
    {
      "cell_type": "code",
      "metadata": {
        "id": "mP1PB7otUbPq",
        "colab_type": "code",
        "colab": {
          "base_uri": "https://localhost:8080/",
          "height": 353
        },
        "outputId": "5d4f8f49-bed1-4540-ca84-6bb2f3ef1151"
      },
      "source": [
        "lasso.fit(x_year, Y)\n",
        "\n",
        "y_predicted = lasso.predict(x_year)\n",
        "\n",
        "# model evaluation\n",
        "rmse = mean_squared_error(Y, y_predicted)\n",
        "r2 = r2_score(Y, y_predicted)\n",
        "\n",
        "# printing values\n",
        "print('Slope:' ,lasso.coef_)\n",
        "print('Intercept:', lasso.intercept_)\n",
        "print('Root mean squared error: ', rmse)\n",
        "print('R2 score: ', r2)\n",
        "\n",
        "# plotting values\n",
        "\n",
        "# data points\n",
        "plt.scatter(x_year, Y, s=10)\n",
        "plt.xlabel('year')\n",
        "plt.ylabel('price')\n",
        "\n",
        "# predicted values\n",
        "plt.plot(x_year, y_predicted, color='r')\n",
        "plt.show()"
      ],
      "execution_count": 136,
      "outputs": [
        {
          "output_type": "stream",
          "text": [
            "Slope: [550.25596598]\n",
            "Intercept: [-1093251.16815833]\n",
            "Root mean squared error:  78640258.75429913\n",
            "R2 score:  0.18435549827437825\n"
          ],
          "name": "stdout"
        },
        {
          "output_type": "display_data",
          "data": {
            "image/png": "[encoded data removed]",
            "text/plain": [
              "<Figure size 432x288 with 1 Axes>"
            ]
          },
          "metadata": {
            "tags": []
          }
        }
      ]
    },
    {
      "cell_type": "code",
      "metadata": {
        "id": "Aq0-Pg2nZ5Wr",
        "colab_type": "code",
        "colab": {
          "base_uri": "https://localhost:8080/",
          "height": 505
        },
        "outputId": "878e2c25-021c-47c8-d437-3cd68625dce8"
      },
      "source": [
        "plt.scatter(x_odometer, Y, s=10)\n",
        "plt.xlabel('odometer')\n",
        "plt.ylabel('price')\n",
        "\n",
        "y_predicted = lasso.predict(x_odometer,x_year)\n",
        "\n",
        "plt.plot(x_odometer, y_predicted, color='r')\n",
        "plt.show()"
      ],
      "execution_count": 141,
      "outputs": [
        {
          "output_type": "error",
          "ename": "TypeError",
          "evalue": "ignored",
          "traceback": [
            "\u001b[0;31m---------------------------------------------------------------------------\u001b[0m",
            "\u001b[0;31mTypeError\u001b[0m                                 Traceback (most recent call last)",
            "\u001b[0;32m<ipython-input-141-c6f5de8e4a96>\u001b[0m in \u001b[0;36m<module>\u001b[0;34m()\u001b[0m\n\u001b[1;32m      3\u001b[0m \u001b[0mplt\u001b[0m\u001b[0;34m.\u001b[0m\u001b[0mylabel\u001b[0m\u001b[0;34m(\u001b[0m\u001b[0;34m'price'\u001b[0m\u001b[0;34m)\u001b[0m\u001b[0;34m\u001b[0m\u001b[0;34m\u001b[0m\u001b[0m\n\u001b[1;32m      4\u001b[0m \u001b[0;34m\u001b[0m\u001b[0m\n\u001b[0;32m----> 5\u001b[0;31m \u001b[0my_predicted\u001b[0m \u001b[0;34m=\u001b[0m \u001b[0mlasso\u001b[0m\u001b[0;34m.\u001b[0m\u001b[0mpredict\u001b[0m\u001b[0;34m(\u001b[0m\u001b[0mx_odometer\u001b[0m\u001b[0;34m,\u001b[0m\u001b[0mx_year\u001b[0m\u001b[0;34m)\u001b[0m\u001b[0;34m\u001b[0m\u001b[0;34m\u001b[0m\u001b[0m\n\u001b[0m\u001b[1;32m      6\u001b[0m \u001b[0;34m\u001b[0m\u001b[0m\n\u001b[1;32m      7\u001b[0m \u001b[0mplt\u001b[0m\u001b[0;34m.\u001b[0m\u001b[0mplot\u001b[0m\u001b[0;34m(\u001b[0m\u001b[0mx_odometer\u001b[0m\u001b[0;34m,\u001b[0m \u001b[0my_predicted\u001b[0m\u001b[0;34m,\u001b[0m \u001b[0mcolor\u001b[0m\u001b[0;34m=\u001b[0m\u001b[0;34m'r'\u001b[0m\u001b[0;34m)\u001b[0m\u001b[0;34m\u001b[0m\u001b[0;34m\u001b[0m\u001b[0m\n",
            "\u001b[0;31mTypeError\u001b[0m: predict() takes 2 positional arguments but 3 were given"
          ]
        },
        {
          "output_type": "display_data",
          "data": {
            "image/png": "[encoded data removed]",
            "text/plain": [
              "<Figure size 432x288 with 1 Axes>"
            ]
          },
          "metadata": {
            "tags": []
          }
        }
      ]
    },
    {
      "cell_type": "markdown",
      "metadata": {
        "id": "_0Wjio1539IS",
        "colab_type": "text"
      },
      "source": [
        "**********************************************************************************************"
      ]
    },
    {
      "cell_type": "markdown",
      "metadata": {
        "id": "98uT4GMfSRLj",
        "colab_type": "text"
      },
      "source": [
        "# VISUALIZATION\n",
        "\n",
        "####Data Visualization\n",
        "\n",
        "####Labelling \n",
        "\n",
        "####Data Plotting\n",
        "\n",
        "####Regression r-squared values\n"
      ]
    },
    {
      "cell_type": "markdown",
      "metadata": {
        "id": "C45AywNtFkVF",
        "colab_type": "text"
      },
      "source": [
        "# DISCUSSION\n",
        "\n",
        "####Model Implications\n",
        "\n",
        "####Fictional Instance\n",
        "\n",
        "####Potential accuracy in interpolation and extrapolration"
      ]
    },
    {
      "cell_type": "markdown",
      "metadata": {
        "id": "LoN4CenG82kw",
        "colab_type": "text"
      },
      "source": [
        "# SUMMARY\n",
        "\n",
        "####Conclusion\n",
        "\n",
        "####Future Aspects\n",
        "\n",
        "####Knowledge gathered"
      ]
    },
    {
      "cell_type": "markdown",
      "metadata": {
        "id": "a3RHYEY_NVHa",
        "colab_type": "text"
      },
      "source": [
        "# REFERENCES\n",
        "\n",
        "Austin Reese (2019) \"Used Cars Dataset\" Vehicles listings from Craigslist.org. Available at: https://www.kaggle.com/austinreese/craigslist-carstrucks-data/version/7.\n",
        "\n",
        "\n",
        "Tomesh, T. (2019). titanic.ipynb. Available at: https://colab.research.google.com/drive/1KftGp4lGzd7PJuKWq9qDv3xnxiQbwhwY#scrollTo=Y2tOGJ2UYPVi [Accessed 16 Aug. 2019].\n",
        "\n",
        "\n",
        "Stach Overflow (2019) Available at https://stackoverflow.com/questions/33165734/update-index-after-sorting-data-frame [Accessed 17 Aug 2019]\n",
        "\n",
        "\n",
        "TutorialsPoint (2019 )Available at https://www.tutorialspoint.com/python_pandas/python_pandas_dataframe.html [Accessed 18 Aug 2019]\n",
        "\n",
        "\n",
        "Chris ALbon (2017), \"Using Seaborn To Visualize A pandas Dataframe\"  Available at: https://chrisalbon.com/python/data_wrangling/pandas_with_seaborn/  [Accessed 18 Aug 2019]\n",
        "\n",
        "\n",
        "Marco Peixeiro (2019), \"How to Perform Lasso and Ridge Regression in Python\" Available at: https://towardsdatascience.com/how-to-perform-lasso-and-ridge-regression-in-python-3b3b75541ad8\n",
        "[Accessed 25 Aug 2019]"
      ]
    }
  ]
}