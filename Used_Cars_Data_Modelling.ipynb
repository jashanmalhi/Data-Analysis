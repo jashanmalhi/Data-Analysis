{
  "nbformat": 4,
  "nbformat_minor": 0,
  "metadata": {
    "colab": {
      "name": "Used Cars Dataset",
      "version": "0.3.2",
      "provenance": [],
      "collapsed_sections": [],
      "toc_visible": true,
      "include_colab_link": true
    },
    "kernelspec": {
      "display_name": "Python 3",
      "name": "python3"
    }
  },
  "cells": [
    {
      "cell_type": "markdown",
      "metadata": {
        "id": "view-in-github",
        "colab_type": "text"
      },
      "source": [
        "<a href=\"https://colab.research.google.com/github/jashanmalhi/Data-Analysis/blob/master/Used_Cars_Data_Modelling.ipynb\" target=\"_parent\"><img src=\"https://colab.research.google.com/assets/colab-badge.svg\" alt=\"Open In Colab\"/></a>"
      ]
    },
    {
      "cell_type": "markdown",
      "metadata": {
        "colab_type": "text",
        "id": "5fCEDCU_qrC0"
      },
      "source": [
        "<p><img alt=\"Colaboratory logo\" height=\"45px\" src=\"https://colab.research.google.com/img/colab_favicon.ico\" align=\"left\" hspace=\"10px\" vspace=\"0px\"></p>\n",
        "\n",
        "\n",
        "\n",
        "<h1>The Used Cars Dataset Modelling</h1>\n",
        "\n",
        "###Jashneet Kaur\n",
        "###jks888@uregina.ca, Id 200380410\n",
        "###University of Regina\n",
        "###Spring / Summer 2019"
      ]
    },
    {
      "cell_type": "markdown",
      "metadata": {
        "colab_type": "text",
        "id": "GJBs_flRovLc"
      },
      "source": [
        "\n",
        "## INRTRODUCTION\n",
        "\n",
        "###Scikit Algorithm \n",
        "I have an option of two scikit algorithms from the figure provided in the assignment. I can select any one from the two algorithms, either Lasso or ElasticNet.\n",
        "\n",
        "###Process and Justification\n",
        "I have started to look for the algorithm from the provided figure itself. I have traced the figure with my requirements with the following steps:\n",
        "####1: started and I have more than 50 dataset values\n",
        "####2: I am not predicting a category. I am working on to predict a quantity that is I am analysing the statics of car pricing factors.\n",
        "####3: I have less than 100k data set values so i move further in that direction from the figure.\n",
        "####4: Now a few features are important to predict the car price like its transmission, odometer value, make and year of manufacturing. \n",
        "####5: Hence I have ended with two options of algorithm to use, these are\n",
        "  #####   Lasso\n",
        "  ##### . ElastcNet\n",
        "  \n",
        "Because i am working on to make predictions of price of a used car with datasets greater than 50 but less than 100k so the chosen algorithm is the best fit. I am not going to predict teh category or teh general structure from my dataset values, hence the above chosen algorithms are helpful for making the quantity predictions based on a few important features of teh car.\n",
        "\n",
        "###Algorithm Working\n",
        "\n",
        "\n",
        "NOTE: Here is a link to the file for better visuals : \n",
        "https://nbviewer.jupyter.org/github/jashanmalhi/Data-Analysis/blob/master/Used_Cars_Dataset.ipynb"
      ]
    },
    {
      "cell_type": "code",
      "metadata": {
        "id": "kcpI8pi9PWv_",
        "colab_type": "code",
        "colab": {}
      },
      "source": [
        "from google.colab import drive"
      ],
      "execution_count": 0,
      "outputs": []
    },
    {
      "cell_type": "code",
      "metadata": {
        "id": "OWM3lWQ-jVU7",
        "colab_type": "code",
        "colab": {}
      },
      "source": [
        "drive.mount('/content/gdrive')"
      ],
      "execution_count": 0,
      "outputs": []
    },
    {
      "cell_type": "code",
      "metadata": {
        "id": "Ob--ys1jd5cO",
        "colab_type": "code",
        "colab": {}
      },
      "source": [
        "cd gdrive/My Drive"
      ],
      "execution_count": 0,
      "outputs": []
    },
    {
      "cell_type": "code",
      "metadata": {
        "id": "EL3NKAOdn53E",
        "colab_type": "code",
        "colab": {}
      },
      "source": [
        "#Importing teh require d libraries\n",
        "import numpy as np\n",
        "import pandas as pd\n",
        "import os\n",
        "import matplotlib.pyplot as plt\n",
        "import seaborn as sns\n",
        "from IPython.display import Image"
      ],
      "execution_count": 0,
      "outputs": []
    },
    {
      "cell_type": "markdown",
      "metadata": {
        "id": "yGkLiU7KilQt",
        "colab_type": "text"
      },
      "source": [
        "# ALGORITHM APPLICATION\n",
        "\n",
        "###Implementation\n",
        "\n",
        "####Model Creation .\n",
        "\n",
        "####Data Preperation"
      ]
    },
    {
      "cell_type": "code",
      "metadata": {
        "id": "CCDmXVd-oLiv",
        "colab_type": "code",
        "colab": {}
      },
      "source": [
        "#read the file data into a ledger variable\n",
        "ledger = pd.read_csv('CarList.csv') "
      ],
      "execution_count": 0,
      "outputs": []
    },
    {
      "cell_type": "markdown",
      "metadata": {
        "id": "_0Wjio1539IS",
        "colab_type": "text"
      },
      "source": [
        "**********************************************************************************************"
      ]
    },
    {
      "cell_type": "code",
      "metadata": {
        "id": "Ldalu2jQjMvB",
        "colab_type": "code",
        "outputId": "f83c0ff0-1cec-4b04-a9da-48b60bda9ad6",
        "colab": {
          "base_uri": "https://localhost:8080/",
          "height": 34
        }
      },
      "source": [
        "#get the total number of rows and columns\n",
        "ledger.shape"
      ],
      "execution_count": 0,
      "outputs": [
        {
          "output_type": "execute_result",
          "data": {
            "text/plain": [
              "(547764, 22)"
            ]
          },
          "metadata": {
            "tags": []
          },
          "execution_count": 40
        }
      ]
    },
    {
      "cell_type": "code",
      "metadata": {
        "id": "yPNTppEBO8yF",
        "colab_type": "code",
        "outputId": "574c25d6-d93a-4369-8557-4f3261a51c2a",
        "colab": {
          "base_uri": "https://localhost:8080/",
          "height": 34
        }
      },
      "source": [
        "ledger.size"
      ],
      "execution_count": 0,
      "outputs": [
        {
          "output_type": "execute_result",
          "data": {
            "text/plain": [
              "12050808"
            ]
          },
          "metadata": {
            "tags": []
          },
          "execution_count": 10
        }
      ]
    },
    {
      "cell_type": "code",
      "metadata": {
        "id": "l2PB-_KKlxK8",
        "colab_type": "code",
        "colab": {}
      },
      "source": [
        "#delete the columns\n",
        "del ledger[\"url\"]\n",
        "del ledger[\"city_url\"]\n",
        "del ledger[\"VIN\"]\n",
        "del ledger[\"image_url\"]\n",
        "del ledger[\"condition\"]"
      ],
      "execution_count": 0,
      "outputs": []
    },
    {
      "cell_type": "code",
      "metadata": {
        "id": "n8ZX6C4L4Jng",
        "colab_type": "code",
        "colab": {}
      },
      "source": [
        "#I have used the dropna command for all the rows where even any one column value is missing.\n",
        "ledger = ledger.dropna()"
      ],
      "execution_count": 0,
      "outputs": []
    },
    {
      "cell_type": "code",
      "metadata": {
        "id": "itjDT8RUrWO6",
        "colab_type": "code",
        "colab": {}
      },
      "source": [
        "#delete the rows where year < 1960 and price < 200 \n",
        "ledger.drop(ledger[ledger.price < 200].index, inplace = True)"
      ],
      "execution_count": 0,
      "outputs": []
    },
    {
      "cell_type": "code",
      "metadata": {
        "id": "ylmiAPWvMfwq",
        "colab_type": "code",
        "colab": {}
      },
      "source": [
        "ledger.drop(ledger[ledger.year < 1960].index, inplace = True)"
      ],
      "execution_count": 0,
      "outputs": []
    },
    {
      "cell_type": "code",
      "metadata": {
        "id": "ZdB95EHro7S6",
        "colab_type": "code",
        "colab": {}
      },
      "source": [
        "#sorted the listings by the year of manufacture in descending order\n",
        "ledger.sort_values([\"year\"], ascending=False, inplace=True)"
      ],
      "execution_count": 0,
      "outputs": []
    },
    {
      "cell_type": "code",
      "metadata": {
        "id": "2lIsz7AA5XB1",
        "colab_type": "code",
        "colab": {}
      },
      "source": [
        "ledger = ledger.reset_index(drop=True)"
      ],
      "execution_count": 0,
      "outputs": []
    },
    {
      "cell_type": "code",
      "metadata": {
        "id": "OrDkasVbokD5",
        "colab_type": "code",
        "outputId": "41ab09d4-129d-4d89-d629-e7c22bc3caaf",
        "colab": {
          "base_uri": "https://localhost:8080/",
          "height": 336
        }
      },
      "source": [
        "ledger.count()"
      ],
      "execution_count": 0,
      "outputs": [
        {
          "output_type": "execute_result",
          "data": {
            "text/plain": [
              "city            109418\n",
              "price           109418\n",
              "year            109418\n",
              "manufacturer    109418\n",
              "make            109418\n",
              "cylinders       109418\n",
              "fuel            109418\n",
              "odometer        109418\n",
              "title_status    109418\n",
              "transmission    109418\n",
              "drive           109418\n",
              "size            109418\n",
              "type            109418\n",
              "paint_color     109418\n",
              "desc            109418\n",
              "lat             109418\n",
              "long            109418\n",
              "dtype: int64"
            ]
          },
          "metadata": {
            "tags": []
          },
          "execution_count": 17
        }
      ]
    },
    {
      "cell_type": "markdown",
      "metadata": {
        "id": "98uT4GMfSRLj",
        "colab_type": "text"
      },
      "source": [
        "# VISUALIZATION\n",
        "\n",
        "####Data Visualization\n",
        "\n",
        "####Labelling \n",
        "\n",
        "####Data Plottignl\n",
        "\n",
        "####Regression r-squared values\n"
      ]
    },
    {
      "cell_type": "code",
      "metadata": {
        "id": "wL5gCwYGhxEq",
        "colab_type": "code",
        "outputId": "1c53cd2f-bfcd-428f-d5a9-acbb9a09f353",
        "colab": {
          "base_uri": "https://localhost:8080/",
          "height": 407
        }
      },
      "source": [
        "ledger.info()"
      ],
      "execution_count": 0,
      "outputs": [
        {
          "output_type": "stream",
          "text": [
            "<class 'pandas.core.frame.DataFrame'>\n",
            "RangeIndex: 109418 entries, 0 to 109417\n",
            "Data columns (total 17 columns):\n",
            "city            109418 non-null object\n",
            "price           109418 non-null int64\n",
            "year            109418 non-null float64\n",
            "manufacturer    109418 non-null object\n",
            "make            109418 non-null object\n",
            "cylinders       109418 non-null object\n",
            "fuel            109418 non-null object\n",
            "odometer        109418 non-null float64\n",
            "title_status    109418 non-null object\n",
            "transmission    109418 non-null object\n",
            "drive           109418 non-null object\n",
            "size            109418 non-null object\n",
            "type            109418 non-null object\n",
            "paint_color     109418 non-null object\n",
            "desc            109418 non-null object\n",
            "lat             109418 non-null float64\n",
            "long            109418 non-null float64\n",
            "dtypes: float64(4), int64(1), object(12)\n",
            "memory usage: 14.2+ MB\n"
          ],
          "name": "stdout"
        }
      ]
    },
    {
      "cell_type": "code",
      "metadata": {
        "id": "QbAB4uThXI0U",
        "colab_type": "code",
        "outputId": "56108e25-f95c-4ec6-c5e6-66211d58d542",
        "colab": {
          "base_uri": "https://localhost:8080/",
          "height": 34
        }
      },
      "source": [
        "ledger.ndim"
      ],
      "execution_count": 0,
      "outputs": [
        {
          "output_type": "execute_result",
          "data": {
            "text/plain": [
              "2"
            ]
          },
          "metadata": {
            "tags": []
          },
          "execution_count": 19
        }
      ]
    },
    {
      "cell_type": "code",
      "metadata": {
        "id": "5-rx1CFxPQQ_",
        "colab_type": "code",
        "outputId": "29a40b71-1896-4a6e-d6ed-7b7ea6b72794",
        "colab": {
          "base_uri": "https://localhost:8080/",
          "height": 401
        }
      },
      "source": [
        "ledger.head(5)"
      ],
      "execution_count": 0,
      "outputs": [
        {
          "output_type": "execute_result",
          "data": {
            "text/html": [
              "<div>\n",
              "<style scoped>\n",
              "    .dataframe tbody tr th:only-of-type {\n",
              "        vertical-align: middle;\n",
              "    }\n",
              "\n",
              "    .dataframe tbody tr th {\n",
              "        vertical-align: top;\n",
              "    }\n",
              "\n",
              "    .dataframe thead th {\n",
              "        text-align: right;\n",
              "    }\n",
              "</style>\n",
              "<table border=\"1\" class=\"dataframe\">\n",
              "  <thead>\n",
              "    <tr style=\"text-align: right;\">\n",
              "      <th></th>\n",
              "      <th>city</th>\n",
              "      <th>price</th>\n",
              "      <th>year</th>\n",
              "      <th>manufacturer</th>\n",
              "      <th>make</th>\n",
              "      <th>cylinders</th>\n",
              "      <th>fuel</th>\n",
              "      <th>odometer</th>\n",
              "      <th>title_status</th>\n",
              "      <th>transmission</th>\n",
              "      <th>drive</th>\n",
              "      <th>size</th>\n",
              "      <th>type</th>\n",
              "      <th>paint_color</th>\n",
              "      <th>desc</th>\n",
              "      <th>lat</th>\n",
              "      <th>long</th>\n",
              "    </tr>\n",
              "  </thead>\n",
              "  <tbody>\n",
              "    <tr>\n",
              "      <th>0</th>\n",
              "      <td>austin, TX</td>\n",
              "      <td>10950</td>\n",
              "      <td>2020.0</td>\n",
              "      <td>toyota</td>\n",
              "      <td>corolla</td>\n",
              "      <td>4 cylinders</td>\n",
              "      <td>gas</td>\n",
              "      <td>6120.0</td>\n",
              "      <td>salvage</td>\n",
              "      <td>automatic</td>\n",
              "      <td>fwd</td>\n",
              "      <td>compact</td>\n",
              "      <td>sedan</td>\n",
              "      <td>blue</td>\n",
              "      <td>Elite Motor Cars of MiamiAsk for: EdgarâÂ (7...</td>\n",
              "      <td>25.827103</td>\n",
              "      <td>-80.241520</td>\n",
              "    </tr>\n",
              "    <tr>\n",
              "      <th>1</th>\n",
              "      <td>panama city, FL</td>\n",
              "      <td>46900</td>\n",
              "      <td>2020.0</td>\n",
              "      <td>jeep</td>\n",
              "      <td>gladiator</td>\n",
              "      <td>6 cylinders</td>\n",
              "      <td>gas</td>\n",
              "      <td>8.0</td>\n",
              "      <td>clean</td>\n",
              "      <td>automatic</td>\n",
              "      <td>4wd</td>\n",
              "      <td>mid-size</td>\n",
              "      <td>SUV</td>\n",
              "      <td>red</td>\n",
              "      <td>NEW JEEP GLADIATOR...Sport Model..Automatic an...</td>\n",
              "      <td>30.175202</td>\n",
              "      <td>-85.667038</td>\n",
              "    </tr>\n",
              "    <tr>\n",
              "      <th>2</th>\n",
              "      <td>rochester, MN</td>\n",
              "      <td>68600</td>\n",
              "      <td>2020.0</td>\n",
              "      <td>toyota</td>\n",
              "      <td>supra</td>\n",
              "      <td>6 cylinders</td>\n",
              "      <td>gas</td>\n",
              "      <td>0.0</td>\n",
              "      <td>clean</td>\n",
              "      <td>automatic</td>\n",
              "      <td>rwd</td>\n",
              "      <td>mid-size</td>\n",
              "      <td>coupe</td>\n",
              "      <td>red</td>\n",
              "      <td>Red Supra - Launch Edition - One of 1500 Limit...</td>\n",
              "      <td>44.046267</td>\n",
              "      <td>-91.674145</td>\n",
              "    </tr>\n",
              "    <tr>\n",
              "      <th>3</th>\n",
              "      <td>ventura county</td>\n",
              "      <td>270</td>\n",
              "      <td>2019.0</td>\n",
              "      <td>jeep</td>\n",
              "      <td>cherokee latitude sport</td>\n",
              "      <td>4 cylinders</td>\n",
              "      <td>gas</td>\n",
              "      <td>4500.0</td>\n",
              "      <td>clean</td>\n",
              "      <td>automatic</td>\n",
              "      <td>fwd</td>\n",
              "      <td>mid-size</td>\n",
              "      <td>SUV</td>\n",
              "      <td>black</td>\n",
              "      <td>Lease transfer on a 2019 Jeep Cherokee w/ leat...</td>\n",
              "      <td>34.263482</td>\n",
              "      <td>-118.905344</td>\n",
              "    </tr>\n",
              "    <tr>\n",
              "      <th>4</th>\n",
              "      <td>green bay, WI</td>\n",
              "      <td>69480</td>\n",
              "      <td>2019.0</td>\n",
              "      <td>ford</td>\n",
              "      <td>expedition</td>\n",
              "      <td>6 cylinders</td>\n",
              "      <td>gas</td>\n",
              "      <td>4233.0</td>\n",
              "      <td>clean</td>\n",
              "      <td>automatic</td>\n",
              "      <td>4wd</td>\n",
              "      <td>full-size</td>\n",
              "      <td>SUV</td>\n",
              "      <td>grey</td>\n",
              "      <td>2019 Ford Expedition Limited - Stone Gray\\n\\n\\...</td>\n",
              "      <td>44.520390</td>\n",
              "      <td>-88.066450</td>\n",
              "    </tr>\n",
              "  </tbody>\n",
              "</table>\n",
              "</div>"
            ],
            "text/plain": [
              "              city  price  ...        lat        long\n",
              "0       austin, TX  10950  ...  25.827103  -80.241520\n",
              "1  panama city, FL  46900  ...  30.175202  -85.667038\n",
              "2    rochester, MN  68600  ...  44.046267  -91.674145\n",
              "3   ventura county    270  ...  34.263482 -118.905344\n",
              "4    green bay, WI  69480  ...  44.520390  -88.066450\n",
              "\n",
              "[5 rows x 17 columns]"
            ]
          },
          "metadata": {
            "tags": []
          },
          "execution_count": 20
        }
      ]
    },
    {
      "cell_type": "code",
      "metadata": {
        "id": "qSTewYf7PUV2",
        "colab_type": "code",
        "outputId": "61eb25ec-b229-4f99-e81e-5a9647332b95",
        "colab": {
          "base_uri": "https://localhost:8080/",
          "height": 501
        }
      },
      "source": [
        "ledger.tail(5)"
      ],
      "execution_count": 0,
      "outputs": [
        {
          "output_type": "execute_result",
          "data": {
            "text/html": [
              "<div>\n",
              "<style scoped>\n",
              "    .dataframe tbody tr th:only-of-type {\n",
              "        vertical-align: middle;\n",
              "    }\n",
              "\n",
              "    .dataframe tbody tr th {\n",
              "        vertical-align: top;\n",
              "    }\n",
              "\n",
              "    .dataframe thead th {\n",
              "        text-align: right;\n",
              "    }\n",
              "</style>\n",
              "<table border=\"1\" class=\"dataframe\">\n",
              "  <thead>\n",
              "    <tr style=\"text-align: right;\">\n",
              "      <th></th>\n",
              "      <th>city</th>\n",
              "      <th>price</th>\n",
              "      <th>year</th>\n",
              "      <th>manufacturer</th>\n",
              "      <th>make</th>\n",
              "      <th>cylinders</th>\n",
              "      <th>fuel</th>\n",
              "      <th>odometer</th>\n",
              "      <th>title_status</th>\n",
              "      <th>transmission</th>\n",
              "      <th>drive</th>\n",
              "      <th>size</th>\n",
              "      <th>type</th>\n",
              "      <th>paint_color</th>\n",
              "      <th>desc</th>\n",
              "      <th>lat</th>\n",
              "      <th>long</th>\n",
              "    </tr>\n",
              "  </thead>\n",
              "  <tbody>\n",
              "    <tr>\n",
              "      <th>109413</th>\n",
              "      <td>new york city</td>\n",
              "      <td>30000</td>\n",
              "      <td>1960.0</td>\n",
              "      <td>chevrolet</td>\n",
              "      <td>bel air</td>\n",
              "      <td>8 cylinders</td>\n",
              "      <td>gas</td>\n",
              "      <td>638.0</td>\n",
              "      <td>clean</td>\n",
              "      <td>automatic</td>\n",
              "      <td>rwd</td>\n",
              "      <td>full-size</td>\n",
              "      <td>coupe</td>\n",
              "      <td>red</td>\n",
              "      <td>Must see over 75k spent in rebuild over two ye...</td>\n",
              "      <td>40.674429</td>\n",
              "      <td>-73.393053</td>\n",
              "    </tr>\n",
              "    <tr>\n",
              "      <th>109414</th>\n",
              "      <td>st cloud, MN</td>\n",
              "      <td>15900</td>\n",
              "      <td>1960.0</td>\n",
              "      <td>ford</td>\n",
              "      <td>f100 pick up</td>\n",
              "      <td>8 cylinders</td>\n",
              "      <td>gas</td>\n",
              "      <td>61000.0</td>\n",
              "      <td>clean</td>\n",
              "      <td>manual</td>\n",
              "      <td>rwd</td>\n",
              "      <td>full-size</td>\n",
              "      <td>pickup</td>\n",
              "      <td>grey</td>\n",
              "      <td>UP FOR SALE, 1960 FORD F100, NUMBERS MATCHING,...</td>\n",
              "      <td>45.810700</td>\n",
              "      <td>-94.832100</td>\n",
              "    </tr>\n",
              "    <tr>\n",
              "      <th>109415</th>\n",
              "      <td>hartford, CT</td>\n",
              "      <td>50000</td>\n",
              "      <td>1960.0</td>\n",
              "      <td>chevrolet</td>\n",
              "      <td>corvette</td>\n",
              "      <td>8 cylinders</td>\n",
              "      <td>gas</td>\n",
              "      <td>62000.0</td>\n",
              "      <td>clean</td>\n",
              "      <td>manual</td>\n",
              "      <td>rwd</td>\n",
              "      <td>mid-size</td>\n",
              "      <td>convertible</td>\n",
              "      <td>red</td>\n",
              "      <td>New tires\\nNew rugs\\n62000 miles \\nTotal overh...</td>\n",
              "      <td>41.585200</td>\n",
              "      <td>-72.612800</td>\n",
              "    </tr>\n",
              "    <tr>\n",
              "      <th>109416</th>\n",
              "      <td>san luis obispo</td>\n",
              "      <td>3500</td>\n",
              "      <td>1960.0</td>\n",
              "      <td>ford</td>\n",
              "      <td>thunderbird</td>\n",
              "      <td>8 cylinders</td>\n",
              "      <td>gas</td>\n",
              "      <td>5000.0</td>\n",
              "      <td>clean</td>\n",
              "      <td>automatic</td>\n",
              "      <td>fwd</td>\n",
              "      <td>full-size</td>\n",
              "      <td>coupe</td>\n",
              "      <td>silver</td>\n",
              "      <td>Newer 390 fe motor installed. Has approximatel...</td>\n",
              "      <td>35.615720</td>\n",
              "      <td>-120.669079</td>\n",
              "    </tr>\n",
              "    <tr>\n",
              "      <th>109417</th>\n",
              "      <td>winchester, VA</td>\n",
              "      <td>40000</td>\n",
              "      <td>1960.0</td>\n",
              "      <td>pontiac</td>\n",
              "      <td>bonneville convertible</td>\n",
              "      <td>8 cylinders</td>\n",
              "      <td>gas</td>\n",
              "      <td>94101.0</td>\n",
              "      <td>clean</td>\n",
              "      <td>automatic</td>\n",
              "      <td>rwd</td>\n",
              "      <td>full-size</td>\n",
              "      <td>convertible</td>\n",
              "      <td>custom</td>\n",
              "      <td>Fully restored in 2006. New paint, new upholst...</td>\n",
              "      <td>38.911300</td>\n",
              "      <td>-77.967400</td>\n",
              "    </tr>\n",
              "  </tbody>\n",
              "</table>\n",
              "</div>"
            ],
            "text/plain": [
              "                   city  price  ...        lat        long\n",
              "109413    new york city  30000  ...  40.674429  -73.393053\n",
              "109414     st cloud, MN  15900  ...  45.810700  -94.832100\n",
              "109415     hartford, CT  50000  ...  41.585200  -72.612800\n",
              "109416  san luis obispo   3500  ...  35.615720 -120.669079\n",
              "109417   winchester, VA  40000  ...  38.911300  -77.967400\n",
              "\n",
              "[5 rows x 17 columns]"
            ]
          },
          "metadata": {
            "tags": []
          },
          "execution_count": 21
        }
      ]
    },
    {
      "cell_type": "code",
      "metadata": {
        "id": "cYQIQh6hPH2Z",
        "colab_type": "code",
        "outputId": "611961c8-7243-4a6f-d7b6-4e85b2383293",
        "colab": {
          "base_uri": "https://localhost:8080/",
          "height": 287
        }
      },
      "source": [
        "ledger.describe()"
      ],
      "execution_count": 0,
      "outputs": [
        {
          "output_type": "execute_result",
          "data": {
            "text/html": [
              "<div>\n",
              "<style scoped>\n",
              "    .dataframe tbody tr th:only-of-type {\n",
              "        vertical-align: middle;\n",
              "    }\n",
              "\n",
              "    .dataframe tbody tr th {\n",
              "        vertical-align: top;\n",
              "    }\n",
              "\n",
              "    .dataframe thead th {\n",
              "        text-align: right;\n",
              "    }\n",
              "</style>\n",
              "<table border=\"1\" class=\"dataframe\">\n",
              "  <thead>\n",
              "    <tr style=\"text-align: right;\">\n",
              "      <th></th>\n",
              "      <th>price</th>\n",
              "      <th>year</th>\n",
              "      <th>odometer</th>\n",
              "      <th>lat</th>\n",
              "      <th>long</th>\n",
              "    </tr>\n",
              "  </thead>\n",
              "  <tbody>\n",
              "    <tr>\n",
              "      <th>count</th>\n",
              "      <td>1.094180e+05</td>\n",
              "      <td>109418.000000</td>\n",
              "      <td>1.094180e+05</td>\n",
              "      <td>109418.000000</td>\n",
              "      <td>109418.000000</td>\n",
              "    </tr>\n",
              "    <tr>\n",
              "      <th>mean</th>\n",
              "      <td>9.333188e+04</td>\n",
              "      <td>2007.930569</td>\n",
              "      <td>1.191248e+05</td>\n",
              "      <td>38.510519</td>\n",
              "      <td>-92.013388</td>\n",
              "    </tr>\n",
              "    <tr>\n",
              "      <th>std</th>\n",
              "      <td>1.648350e+07</td>\n",
              "      <td>7.760470</td>\n",
              "      <td>1.315943e+05</td>\n",
              "      <td>5.596388</td>\n",
              "      <td>16.251720</td>\n",
              "    </tr>\n",
              "    <tr>\n",
              "      <th>min</th>\n",
              "      <td>2.000000e+02</td>\n",
              "      <td>1960.000000</td>\n",
              "      <td>0.000000e+00</td>\n",
              "      <td>-82.890831</td>\n",
              "      <td>-161.874900</td>\n",
              "    </tr>\n",
              "    <tr>\n",
              "      <th>25%</th>\n",
              "      <td>4.650000e+03</td>\n",
              "      <td>2005.000000</td>\n",
              "      <td>6.977400e+04</td>\n",
              "      <td>34.926700</td>\n",
              "      <td>-97.951800</td>\n",
              "    </tr>\n",
              "    <tr>\n",
              "      <th>50%</th>\n",
              "      <td>8.900000e+03</td>\n",
              "      <td>2009.000000</td>\n",
              "      <td>1.123220e+05</td>\n",
              "      <td>39.363221</td>\n",
              "      <td>-86.875248</td>\n",
              "    </tr>\n",
              "    <tr>\n",
              "      <th>75%</th>\n",
              "      <td>1.590000e+04</td>\n",
              "      <td>2013.000000</td>\n",
              "      <td>1.552140e+05</td>\n",
              "      <td>42.477134</td>\n",
              "      <td>-80.396200</td>\n",
              "    </tr>\n",
              "    <tr>\n",
              "      <th>max</th>\n",
              "      <td>4.045085e+09</td>\n",
              "      <td>2020.000000</td>\n",
              "      <td>1.000000e+07</td>\n",
              "      <td>68.582997</td>\n",
              "      <td>8.899454</td>\n",
              "    </tr>\n",
              "  </tbody>\n",
              "</table>\n",
              "</div>"
            ],
            "text/plain": [
              "              price           year      odometer            lat           long\n",
              "count  1.094180e+05  109418.000000  1.094180e+05  109418.000000  109418.000000\n",
              "mean   9.333188e+04    2007.930569  1.191248e+05      38.510519     -92.013388\n",
              "std    1.648350e+07       7.760470  1.315943e+05       5.596388      16.251720\n",
              "min    2.000000e+02    1960.000000  0.000000e+00     -82.890831    -161.874900\n",
              "25%    4.650000e+03    2005.000000  6.977400e+04      34.926700     -97.951800\n",
              "50%    8.900000e+03    2009.000000  1.123220e+05      39.363221     -86.875248\n",
              "75%    1.590000e+04    2013.000000  1.552140e+05      42.477134     -80.396200\n",
              "max    4.045085e+09    2020.000000  1.000000e+07      68.582997       8.899454"
            ]
          },
          "metadata": {
            "tags": []
          },
          "execution_count": 22
        }
      ]
    },
    {
      "cell_type": "code",
      "metadata": {
        "id": "ZaBPYqO0pT8g",
        "colab_type": "code",
        "outputId": "b64dd523-d2c2-4858-f3dd-a49a7e941544",
        "colab": {
          "base_uri": "https://localhost:8080/",
          "height": 403
        }
      },
      "source": [
        "plt.figure(figsize=(15,6))\n",
        "ax = sns.scatterplot(x=\"price\", y=ledger['price'].value_counts(), hue=ledger['price'].value_counts(), data=ledger)\n",
        "plt.title(\"Car price vs count of listings for that price\");"
      ],
      "execution_count": 0,
      "outputs": [
        {
          "output_type": "display_data",
          "data": {
            "image/png": "[encoded data removed]",
            "text/plain": [
              "<Figure size 1080x432 with 1 Axes>"
            ]
          },
          "metadata": {
            "tags": []
          }
        }
      ]
    },
    {
      "cell_type": "markdown",
      "metadata": {
        "id": "UwojvUli-mfZ",
        "colab_type": "text"
      },
      "source": [
        "The scatter plot shows that there are a few price listings which are outliers. these values are stretching the plotted graph. Let us explore these outliers. Checking the rows with price greater than 1,25,000. (Chris, 2017)"
      ]
    },
    {
      "cell_type": "code",
      "metadata": {
        "id": "lDlMWnBwwSRk",
        "colab_type": "code",
        "outputId": "9cd86813-1e74-4f2d-9a80-a3221ba952f4",
        "colab": {
          "base_uri": "https://localhost:8080/",
          "height": 87
        }
      },
      "source": [
        "highprice = np.where(ledger[\"price\"]>125000)\n",
        "highprice"
      ],
      "execution_count": 0,
      "outputs": [
        {
          "output_type": "execute_result",
          "data": {
            "text/plain": [
              "(array([   524,   1998,   2016,   2074,   3144,   4400,   5303,   9769,\n",
              "         10366,  15323,  15775,  17513,  26667,  33948,  34055,  38068,\n",
              "         38877,  39421,  40166,  48931,  49411,  51743,  52765,  59634,\n",
              "         65269, 103710, 108614]),)"
            ]
          },
          "metadata": {
            "tags": []
          },
          "execution_count": 34
        }
      ]
    },
    {
      "cell_type": "code",
      "metadata": {
        "id": "pjH29BfvH6o_",
        "colab_type": "code",
        "outputId": "bb930337-8c34-4bdf-ff47-febf6c1b6b07",
        "colab": {
          "base_uri": "https://localhost:8080/",
          "height": 1961
        }
      },
      "source": [
        "ledger.loc[highprice]"
      ],
      "execution_count": 0,
      "outputs": [
        {
          "output_type": "execute_result",
          "data": {
            "text/html": [
              "<div>\n",
              "<style scoped>\n",
              "    .dataframe tbody tr th:only-of-type {\n",
              "        vertical-align: middle;\n",
              "    }\n",
              "\n",
              "    .dataframe tbody tr th {\n",
              "        vertical-align: top;\n",
              "    }\n",
              "\n",
              "    .dataframe thead th {\n",
              "        text-align: right;\n",
              "    }\n",
              "</style>\n",
              "<table border=\"1\" class=\"dataframe\">\n",
              "  <thead>\n",
              "    <tr style=\"text-align: right;\">\n",
              "      <th></th>\n",
              "      <th>city</th>\n",
              "      <th>price</th>\n",
              "      <th>year</th>\n",
              "      <th>manufacturer</th>\n",
              "      <th>make</th>\n",
              "      <th>cylinders</th>\n",
              "      <th>fuel</th>\n",
              "      <th>odometer</th>\n",
              "      <th>title_status</th>\n",
              "      <th>transmission</th>\n",
              "      <th>drive</th>\n",
              "      <th>size</th>\n",
              "      <th>type</th>\n",
              "      <th>paint_color</th>\n",
              "      <th>desc</th>\n",
              "      <th>lat</th>\n",
              "      <th>long</th>\n",
              "    </tr>\n",
              "  </thead>\n",
              "  <tbody>\n",
              "    <tr>\n",
              "      <th>524</th>\n",
              "      <td>treasure coast, FL</td>\n",
              "      <td>145000</td>\n",
              "      <td>2018.0</td>\n",
              "      <td>dodge</td>\n",
              "      <td>challenger</td>\n",
              "      <td>8 cylinders</td>\n",
              "      <td>gas</td>\n",
              "      <td>5.0</td>\n",
              "      <td>clean</td>\n",
              "      <td>automatic</td>\n",
              "      <td>rwd</td>\n",
              "      <td>mid-size</td>\n",
              "      <td>coupe</td>\n",
              "      <td>yellow</td>\n",
              "      <td>2018 Dodge Challenger SRT Demon - $145,000\\nYe...</td>\n",
              "      <td>27.176336</td>\n",
              "      <td>-80.240442</td>\n",
              "    </tr>\n",
              "    <tr>\n",
              "      <th>1998</th>\n",
              "      <td>fort collins / north CO</td>\n",
              "      <td>33999</td>\n",
              "      <td>2018.0</td>\n",
              "      <td>ford</td>\n",
              "      <td>explorer</td>\n",
              "      <td>6 cylinders</td>\n",
              "      <td>gas</td>\n",
              "      <td>30841.0</td>\n",
              "      <td>clean</td>\n",
              "      <td>automatic</td>\n",
              "      <td>4wd</td>\n",
              "      <td>mid-size</td>\n",
              "      <td>SUV</td>\n",
              "      <td>custom</td>\n",
              "      <td>Use this link to see more information on this ...</td>\n",
              "      <td>39.580309</td>\n",
              "      <td>-104.954917</td>\n",
              "    </tr>\n",
              "    <tr>\n",
              "      <th>2016</th>\n",
              "      <td>corpus christi, TX</td>\n",
              "      <td>20901</td>\n",
              "      <td>2018.0</td>\n",
              "      <td>honda</td>\n",
              "      <td>accord</td>\n",
              "      <td>4 cylinders</td>\n",
              "      <td>gas</td>\n",
              "      <td>13683.0</td>\n",
              "      <td>clean</td>\n",
              "      <td>automatic</td>\n",
              "      <td>fwd</td>\n",
              "      <td>mid-size</td>\n",
              "      <td>sedan</td>\n",
              "      <td>red</td>\n",
              "      <td>Use this link to see more information on this ...</td>\n",
              "      <td>27.657870</td>\n",
              "      <td>-97.479816</td>\n",
              "    </tr>\n",
              "    <tr>\n",
              "      <th>2074</th>\n",
              "      <td>upper peninsula, MI</td>\n",
              "      <td>22500</td>\n",
              "      <td>2018.0</td>\n",
              "      <td>jeep</td>\n",
              "      <td>compass trailhawk</td>\n",
              "      <td>4 cylinders</td>\n",
              "      <td>gas</td>\n",
              "      <td>28000.0</td>\n",
              "      <td>lien</td>\n",
              "      <td>automatic</td>\n",
              "      <td>4wd</td>\n",
              "      <td>compact</td>\n",
              "      <td>SUV</td>\n",
              "      <td>red</td>\n",
              "      <td>I am the second owner, purchased only two mont...</td>\n",
              "      <td>45.679200</td>\n",
              "      <td>-87.531900</td>\n",
              "    </tr>\n",
              "    <tr>\n",
              "      <th>3144</th>\n",
              "      <td>norfolk / hampton roads</td>\n",
              "      <td>31744</td>\n",
              "      <td>2018.0</td>\n",
              "      <td>nissan</td>\n",
              "      <td>nv3500 high roof cargo</td>\n",
              "      <td>8 cylinders</td>\n",
              "      <td>gas</td>\n",
              "      <td>11856.0</td>\n",
              "      <td>clean</td>\n",
              "      <td>automatic</td>\n",
              "      <td>rwd</td>\n",
              "      <td>full-size</td>\n",
              "      <td>van</td>\n",
              "      <td>white</td>\n",
              "      <td>2018 Nissan NV3500-SV-High Roof-Cargo Van-5.6L...</td>\n",
              "      <td>36.688290</td>\n",
              "      <td>-76.230521</td>\n",
              "    </tr>\n",
              "    <tr>\n",
              "      <th>4400</th>\n",
              "      <td>mobile, AL</td>\n",
              "      <td>18502</td>\n",
              "      <td>2017.0</td>\n",
              "      <td>honda</td>\n",
              "      <td>accord</td>\n",
              "      <td>4 cylinders</td>\n",
              "      <td>gas</td>\n",
              "      <td>34296.0</td>\n",
              "      <td>clean</td>\n",
              "      <td>automatic</td>\n",
              "      <td>fwd</td>\n",
              "      <td>mid-size</td>\n",
              "      <td>sedan</td>\n",
              "      <td>blue</td>\n",
              "      <td>SOLD!!!  \\nThis Honda Accord has just been Sol...</td>\n",
              "      <td>30.668786</td>\n",
              "      <td>-88.105874</td>\n",
              "    </tr>\n",
              "    <tr>\n",
              "      <th>5303</th>\n",
              "      <td>grand forks</td>\n",
              "      <td>15990</td>\n",
              "      <td>2017.0</td>\n",
              "      <td>chevrolet</td>\n",
              "      <td>cruze</td>\n",
              "      <td>4 cylinders</td>\n",
              "      <td>gas</td>\n",
              "      <td>21858.0</td>\n",
              "      <td>clean</td>\n",
              "      <td>automatic</td>\n",
              "      <td>fwd</td>\n",
              "      <td>full-size</td>\n",
              "      <td>sedan</td>\n",
              "      <td>white</td>\n",
              "      <td>2017 Chevrolet Cruze\\nLT Pkg.\\n1.4L A/T\\nLow m...</td>\n",
              "      <td>47.911024</td>\n",
              "      <td>-97.045022</td>\n",
              "    </tr>\n",
              "    <tr>\n",
              "      <th>9769</th>\n",
              "      <td>scranton / wilkes-barre</td>\n",
              "      <td>26995</td>\n",
              "      <td>2016.0</td>\n",
              "      <td>ford</td>\n",
              "      <td>super duty f-350 srw</td>\n",
              "      <td>8 cylinders</td>\n",
              "      <td>diesel</td>\n",
              "      <td>121089.0</td>\n",
              "      <td>clean</td>\n",
              "      <td>automatic</td>\n",
              "      <td>4wd</td>\n",
              "      <td>full-size</td>\n",
              "      <td>pickup</td>\n",
              "      <td>white</td>\n",
              "      <td>2016 *** Ford Super Duty F-350_ F350_ f350_ FÂ...</td>\n",
              "      <td>43.488300</td>\n",
              "      <td>-76.393469</td>\n",
              "    </tr>\n",
              "    <tr>\n",
              "      <th>10366</th>\n",
              "      <td>phoenix, AZ</td>\n",
              "      <td>10892</td>\n",
              "      <td>2016.0</td>\n",
              "      <td>kia</td>\n",
              "      <td>optima</td>\n",
              "      <td>4 cylinders</td>\n",
              "      <td>gas</td>\n",
              "      <td>75569.0</td>\n",
              "      <td>clean</td>\n",
              "      <td>automatic</td>\n",
              "      <td>fwd</td>\n",
              "      <td>full-size</td>\n",
              "      <td>sedan</td>\n",
              "      <td>grey</td>\n",
              "      <td>2016 **Kia Optima** LX\\n\\nAvailable at: Mark M...</td>\n",
              "      <td>33.639590</td>\n",
              "      <td>-112.042000</td>\n",
              "    </tr>\n",
              "    <tr>\n",
              "      <th>15323</th>\n",
              "      <td>cleveland, OH</td>\n",
              "      <td>19999</td>\n",
              "      <td>2015.0</td>\n",
              "      <td>chevrolet</td>\n",
              "      <td>colorado</td>\n",
              "      <td>6 cylinders</td>\n",
              "      <td>gas</td>\n",
              "      <td>59915.0</td>\n",
              "      <td>clean</td>\n",
              "      <td>automatic</td>\n",
              "      <td>4wd</td>\n",
              "      <td>mid-size</td>\n",
              "      <td>pickup</td>\n",
              "      <td>black</td>\n",
              "      <td>Call (or text) â (440) 815â1794\\nWE TAKE A...</td>\n",
              "      <td>41.575218</td>\n",
              "      <td>-81.551502</td>\n",
              "    </tr>\n",
              "    <tr>\n",
              "      <th>15775</th>\n",
              "      <td>houston, TX</td>\n",
              "      <td>24900</td>\n",
              "      <td>2015.0</td>\n",
              "      <td>gmc</td>\n",
              "      <td>g3500</td>\n",
              "      <td>8 cylinders</td>\n",
              "      <td>gas</td>\n",
              "      <td>114853.0</td>\n",
              "      <td>clean</td>\n",
              "      <td>automatic</td>\n",
              "      <td>rwd</td>\n",
              "      <td>full-size</td>\n",
              "      <td>truck</td>\n",
              "      <td>yellow</td>\n",
              "      <td>SUPER CLEAN 2015 GMC CUTAWAY BOX TRUCK 12 FT S...</td>\n",
              "      <td>29.872410</td>\n",
              "      <td>-95.328325</td>\n",
              "    </tr>\n",
              "    <tr>\n",
              "      <th>17513</th>\n",
              "      <td>stockton, CA</td>\n",
              "      <td>9950</td>\n",
              "      <td>2015.0</td>\n",
              "      <td>nissan</td>\n",
              "      <td>altima</td>\n",
              "      <td>4 cylinders</td>\n",
              "      <td>gas</td>\n",
              "      <td>73521.0</td>\n",
              "      <td>clean</td>\n",
              "      <td>automatic</td>\n",
              "      <td>fwd</td>\n",
              "      <td>full-size</td>\n",
              "      <td>sedan</td>\n",
              "      <td>grey</td>\n",
              "      <td>SUPER AUTO SALES STOCKTON\\n1087 S. Pilgrim Str...</td>\n",
              "      <td>37.962500</td>\n",
              "      <td>-121.262400</td>\n",
              "    </tr>\n",
              "    <tr>\n",
              "      <th>26667</th>\n",
              "      <td>eastern kentucky</td>\n",
              "      <td>13950</td>\n",
              "      <td>2013.0</td>\n",
              "      <td>chevrolet</td>\n",
              "      <td>silverado 1500</td>\n",
              "      <td>8 cylinders</td>\n",
              "      <td>gas</td>\n",
              "      <td>158945.0</td>\n",
              "      <td>clean</td>\n",
              "      <td>automatic</td>\n",
              "      <td>4wd</td>\n",
              "      <td>full-size</td>\n",
              "      <td>truck</td>\n",
              "      <td>white</td>\n",
              "      <td>2013 Chevrolet Silverado 1500 4WD Ext Cab 143....</td>\n",
              "      <td>38.692648</td>\n",
              "      <td>-82.857744</td>\n",
              "    </tr>\n",
              "    <tr>\n",
              "      <th>33948</th>\n",
              "      <td>winston-salem, NC</td>\n",
              "      <td>5788</td>\n",
              "      <td>2012.0</td>\n",
              "      <td>mazda</td>\n",
              "      <td>3</td>\n",
              "      <td>4 cylinders</td>\n",
              "      <td>gas</td>\n",
              "      <td>130788.0</td>\n",
              "      <td>clean</td>\n",
              "      <td>manual</td>\n",
              "      <td>fwd</td>\n",
              "      <td>mid-size</td>\n",
              "      <td>sedan</td>\n",
              "      <td>silver</td>\n",
              "      <td>Incredible Value!!! 6 speed manual transmissio...</td>\n",
              "      <td>36.006500</td>\n",
              "      <td>-80.446300</td>\n",
              "    </tr>\n",
              "    <tr>\n",
              "      <th>34055</th>\n",
              "      <td>indianapolis</td>\n",
              "      <td>8995</td>\n",
              "      <td>2012.0</td>\n",
              "      <td>gmc</td>\n",
              "      <td>acadia 3rd row</td>\n",
              "      <td>6 cylinders</td>\n",
              "      <td>gas</td>\n",
              "      <td>144097.0</td>\n",
              "      <td>clean</td>\n",
              "      <td>automatic</td>\n",
              "      <td>fwd</td>\n",
              "      <td>mid-size</td>\n",
              "      <td>SUV</td>\n",
              "      <td>black</td>\n",
              "      <td>1-owner 2012 GMCAcadia Auto V6 FWD with 3rd ro...</td>\n",
              "      <td>39.553774</td>\n",
              "      <td>-86.095047</td>\n",
              "    </tr>\n",
              "    <tr>\n",
              "      <th>38068</th>\n",
              "      <td>fresno / madera</td>\n",
              "      <td>9500</td>\n",
              "      <td>2012.0</td>\n",
              "      <td>honda</td>\n",
              "      <td>accord 4-door sedan</td>\n",
              "      <td>4 cylinders</td>\n",
              "      <td>gas</td>\n",
              "      <td>130000.0</td>\n",
              "      <td>clean</td>\n",
              "      <td>automatic</td>\n",
              "      <td>fwd</td>\n",
              "      <td>full-size</td>\n",
              "      <td>sedan</td>\n",
              "      <td>white</td>\n",
              "      <td>2012 Honda Accord 4 door sedan in excellent co...</td>\n",
              "      <td>37.040200</td>\n",
              "      <td>-120.033500</td>\n",
              "    </tr>\n",
              "    <tr>\n",
              "      <th>38877</th>\n",
              "      <td>detroit metro</td>\n",
              "      <td>4450</td>\n",
              "      <td>2012.0</td>\n",
              "      <td>dodge</td>\n",
              "      <td>grand caravan se</td>\n",
              "      <td>6 cylinders</td>\n",
              "      <td>gas</td>\n",
              "      <td>185359.0</td>\n",
              "      <td>clean</td>\n",
              "      <td>automatic</td>\n",
              "      <td>fwd</td>\n",
              "      <td>mid-size</td>\n",
              "      <td>mini-van</td>\n",
              "      <td>silver</td>\n",
              "      <td>JUST ARRIVED!! THIS GREAT RUNNING, SUPER CLEAN...</td>\n",
              "      <td>42.689751</td>\n",
              "      <td>-83.393880</td>\n",
              "    </tr>\n",
              "    <tr>\n",
              "      <th>39421</th>\n",
              "      <td>dallas / fort worth</td>\n",
              "      <td>15000</td>\n",
              "      <td>2012.0</td>\n",
              "      <td>ford</td>\n",
              "      <td>f150 supercrew cab lariat</td>\n",
              "      <td>6 cylinders</td>\n",
              "      <td>gas</td>\n",
              "      <td>59000.0</td>\n",
              "      <td>rebuilt</td>\n",
              "      <td>automatic</td>\n",
              "      <td>rwd</td>\n",
              "      <td>full-size</td>\n",
              "      <td>pickup</td>\n",
              "      <td>black</td>\n",
              "      <td>12 F 150 crew cab Lariat 3.5L Ecoboost auto. B...</td>\n",
              "      <td>32.658700</td>\n",
              "      <td>-96.911400</td>\n",
              "    </tr>\n",
              "    <tr>\n",
              "      <th>40166</th>\n",
              "      <td>yuba-sutter, CA</td>\n",
              "      <td>15995</td>\n",
              "      <td>2011.0</td>\n",
              "      <td>acura</td>\n",
              "      <td>mdx</td>\n",
              "      <td>6 cylinders</td>\n",
              "      <td>gas</td>\n",
              "      <td>95669.0</td>\n",
              "      <td>clean</td>\n",
              "      <td>automatic</td>\n",
              "      <td>4wd</td>\n",
              "      <td>full-size</td>\n",
              "      <td>SUV</td>\n",
              "      <td>silver</td>\n",
              "      <td>2011 Acura MDX AWD 4dr - $15,995\\n\\nYear: 2011...</td>\n",
              "      <td>39.498139</td>\n",
              "      <td>-119.788768</td>\n",
              "    </tr>\n",
              "    <tr>\n",
              "      <th>48931</th>\n",
              "      <td>south bend / michiana</td>\n",
              "      <td>6999</td>\n",
              "      <td>2010.0</td>\n",
              "      <td>toyota</td>\n",
              "      <td>prius hybrid</td>\n",
              "      <td>4 cylinders</td>\n",
              "      <td>hybrid</td>\n",
              "      <td>158234.0</td>\n",
              "      <td>clean</td>\n",
              "      <td>automatic</td>\n",
              "      <td>fwd</td>\n",
              "      <td>full-size</td>\n",
              "      <td>hatchback</td>\n",
              "      <td>white</td>\n",
              "      <td>For sale\\n2010 toyota prius hybrid\\nnavigation...</td>\n",
              "      <td>41.669158</td>\n",
              "      <td>-86.014538</td>\n",
              "    </tr>\n",
              "    <tr>\n",
              "      <th>49411</th>\n",
              "      <td>daytona beach</td>\n",
              "      <td>6999</td>\n",
              "      <td>2010.0</td>\n",
              "      <td>honda</td>\n",
              "      <td>odyssey ex</td>\n",
              "      <td>6 cylinders</td>\n",
              "      <td>gas</td>\n",
              "      <td>116240.0</td>\n",
              "      <td>clean</td>\n",
              "      <td>automatic</td>\n",
              "      <td>fwd</td>\n",
              "      <td>full-size</td>\n",
              "      <td>mini-van</td>\n",
              "      <td>grey</td>\n",
              "      <td>Runs and drives great\\nClean interior with ori...</td>\n",
              "      <td>29.462886</td>\n",
              "      <td>-81.254454</td>\n",
              "    </tr>\n",
              "    <tr>\n",
              "      <th>51743</th>\n",
              "      <td>hudson valley, NY</td>\n",
              "      <td>5000</td>\n",
              "      <td>2010.0</td>\n",
              "      <td>hyundai</td>\n",
              "      <td>touring wagon gls</td>\n",
              "      <td>4 cylinders</td>\n",
              "      <td>gas</td>\n",
              "      <td>59000.0</td>\n",
              "      <td>clean</td>\n",
              "      <td>automatic</td>\n",
              "      <td>fwd</td>\n",
              "      <td>compact</td>\n",
              "      <td>wagon</td>\n",
              "      <td>red</td>\n",
              "      <td>This is a great deal. I would  jump on it if I...</td>\n",
              "      <td>41.091400</td>\n",
              "      <td>-73.925200</td>\n",
              "    </tr>\n",
              "    <tr>\n",
              "      <th>52765</th>\n",
              "      <td>dayton / springfield</td>\n",
              "      <td>1695</td>\n",
              "      <td>2009.0</td>\n",
              "      <td>saturn</td>\n",
              "      <td>aura</td>\n",
              "      <td>4 cylinders</td>\n",
              "      <td>gas</td>\n",
              "      <td>151265.0</td>\n",
              "      <td>clean</td>\n",
              "      <td>automatic</td>\n",
              "      <td>fwd</td>\n",
              "      <td>mid-size</td>\n",
              "      <td>sedan</td>\n",
              "      <td>white</td>\n",
              "      <td>2009 Saturn Aura XE - (Polar White) \\n*** THIS...</td>\n",
              "      <td>39.292790</td>\n",
              "      <td>-84.319770</td>\n",
              "    </tr>\n",
              "    <tr>\n",
              "      <th>59634</th>\n",
              "      <td>vermont</td>\n",
              "      <td>7995</td>\n",
              "      <td>2008.0</td>\n",
              "      <td>lexus</td>\n",
              "      <td>es 350</td>\n",
              "      <td>6 cylinders</td>\n",
              "      <td>gas</td>\n",
              "      <td>156000.0</td>\n",
              "      <td>clean</td>\n",
              "      <td>automatic</td>\n",
              "      <td>fwd</td>\n",
              "      <td>mid-size</td>\n",
              "      <td>sedan</td>\n",
              "      <td>white</td>\n",
              "      <td>2008 Lexus ES 350 Loaded with Navigation- Exce...</td>\n",
              "      <td>42.902621</td>\n",
              "      <td>-71.350408</td>\n",
              "    </tr>\n",
              "    <tr>\n",
              "      <th>65269</th>\n",
              "      <td>northern michigan</td>\n",
              "      <td>28000</td>\n",
              "      <td>2007.0</td>\n",
              "      <td>chevrolet</td>\n",
              "      <td>silverado 2500hd</td>\n",
              "      <td>8 cylinders</td>\n",
              "      <td>diesel</td>\n",
              "      <td>107500.0</td>\n",
              "      <td>lien</td>\n",
              "      <td>automatic</td>\n",
              "      <td>4wd</td>\n",
              "      <td>full-size</td>\n",
              "      <td>pickup</td>\n",
              "      <td>black</td>\n",
              "      <td>2007.5 Chevrolet Silverado 2500HD . Motor, Exh...</td>\n",
              "      <td>44.764699</td>\n",
              "      <td>-85.618885</td>\n",
              "    </tr>\n",
              "    <tr>\n",
              "      <th>103710</th>\n",
              "      <td>monroe, MI</td>\n",
              "      <td>2495</td>\n",
              "      <td>1996.0</td>\n",
              "      <td>pontiac</td>\n",
              "      <td>grand am</td>\n",
              "      <td>6 cylinders</td>\n",
              "      <td>gas</td>\n",
              "      <td>83397.0</td>\n",
              "      <td>clean</td>\n",
              "      <td>automatic</td>\n",
              "      <td>fwd</td>\n",
              "      <td>mid-size</td>\n",
              "      <td>coupe</td>\n",
              "      <td>white</td>\n",
              "      <td>Call 586-777-0660 for your pre-approval ~ we w...</td>\n",
              "      <td>42.477134</td>\n",
              "      <td>-82.949564</td>\n",
              "    </tr>\n",
              "    <tr>\n",
              "      <th>108614</th>\n",
              "      <td>buffalo, NY</td>\n",
              "      <td>7900</td>\n",
              "      <td>1971.0</td>\n",
              "      <td>ford</td>\n",
              "      <td>mustang</td>\n",
              "      <td>8 cylinders</td>\n",
              "      <td>gas</td>\n",
              "      <td>999999.0</td>\n",
              "      <td>clean</td>\n",
              "      <td>automatic</td>\n",
              "      <td>rwd</td>\n",
              "      <td>mid-size</td>\n",
              "      <td>convertible</td>\n",
              "      <td>yellow</td>\n",
              "      <td>Older restoration, Runs good, under coated, 30...</td>\n",
              "      <td>42.927726</td>\n",
              "      <td>-78.743170</td>\n",
              "    </tr>\n",
              "  </tbody>\n",
              "</table>\n",
              "</div>"
            ],
            "text/plain": [
              "                           city   price  ...        lat        long\n",
              "524          treasure coast, FL  145000  ...  27.176336  -80.240442\n",
              "1998    fort collins / north CO   33999  ...  39.580309 -104.954917\n",
              "2016         corpus christi, TX   20901  ...  27.657870  -97.479816\n",
              "2074        upper peninsula, MI   22500  ...  45.679200  -87.531900\n",
              "3144    norfolk / hampton roads   31744  ...  36.688290  -76.230521\n",
              "4400                 mobile, AL   18502  ...  30.668786  -88.105874\n",
              "5303                grand forks   15990  ...  47.911024  -97.045022\n",
              "9769    scranton / wilkes-barre   26995  ...  43.488300  -76.393469\n",
              "10366               phoenix, AZ   10892  ...  33.639590 -112.042000\n",
              "15323             cleveland, OH   19999  ...  41.575218  -81.551502\n",
              "15775               houston, TX   24900  ...  29.872410  -95.328325\n",
              "17513              stockton, CA    9950  ...  37.962500 -121.262400\n",
              "26667          eastern kentucky   13950  ...  38.692648  -82.857744\n",
              "33948         winston-salem, NC    5788  ...  36.006500  -80.446300\n",
              "34055              indianapolis    8995  ...  39.553774  -86.095047\n",
              "38068           fresno / madera    9500  ...  37.040200 -120.033500\n",
              "38877             detroit metro    4450  ...  42.689751  -83.393880\n",
              "39421       dallas / fort worth   15000  ...  32.658700  -96.911400\n",
              "40166           yuba-sutter, CA   15995  ...  39.498139 -119.788768\n",
              "48931     south bend / michiana    6999  ...  41.669158  -86.014538\n",
              "49411             daytona beach    6999  ...  29.462886  -81.254454\n",
              "51743         hudson valley, NY    5000  ...  41.091400  -73.925200\n",
              "52765      dayton / springfield    1695  ...  39.292790  -84.319770\n",
              "59634                   vermont    7995  ...  42.902621  -71.350408\n",
              "65269         northern michigan   28000  ...  44.764699  -85.618885\n",
              "103710               monroe, MI    2495  ...  42.477134  -82.949564\n",
              "108614              buffalo, NY    7900  ...  42.927726  -78.743170\n",
              "\n",
              "[27 rows x 17 columns]"
            ]
          },
          "metadata": {
            "tags": []
          },
          "execution_count": 35
        }
      ]
    },
    {
      "cell_type": "code",
      "metadata": {
        "id": "f2aKvR__CnB5",
        "colab_type": "code",
        "colab": {}
      },
      "source": [
        "ledger.drop(ledger[ledger.price > 125000].index, inplace = True)"
      ],
      "execution_count": 0,
      "outputs": []
    },
    {
      "cell_type": "code",
      "metadata": {
        "id": "iQ55vQVzsHRj",
        "colab_type": "code",
        "outputId": "acd0448d-93c6-4e44-f183-77102f2f378b",
        "colab": {
          "base_uri": "https://localhost:8080/",
          "height": 403
        }
      },
      "source": [
        "plt.figure(figsize=(15,6))\n",
        "ax = sns.distplot(ledger['price'],kde = False)\n",
        "plt.title(\"Year vs count of listings for that price\");"
      ],
      "execution_count": 0,
      "outputs": [
        {
          "output_type": "display_data",
          "data": {
            "image/png": "[encoded data removed]",
            "text/plain": [
              "<Figure size 1080x432 with 1 Axes>"
            ]
          },
          "metadata": {
            "tags": []
          }
        }
      ]
    },
    {
      "cell_type": "code",
      "metadata": {
        "id": "2OdpEDA8DIiE",
        "colab_type": "code",
        "outputId": "32b291b0-2ea2-4ac6-a589-ad7a9906d168",
        "colab": {
          "base_uri": "https://localhost:8080/",
          "height": 403
        }
      },
      "source": [
        "plt.figure(figsize=(15,6))\n",
        "ax = sns.scatterplot(x=\"price\", y=ledger['price'].value_counts(), hue=ledger['price'].value_counts(), data=ledger)\n",
        "plt.title(\"Car price vs count of listings for that price\");"
      ],
      "execution_count": 0,
      "outputs": [
        {
          "output_type": "display_data",
          "data": {
            "image/png": "[encoded data removed]",
            "text/plain": [
              "<Figure size 1080x432 with 1 Axes>"
            ]
          },
          "metadata": {
            "tags": []
          }
        }
      ]
    },
    {
      "cell_type": "markdown",
      "metadata": {
        "id": "C45AywNtFkVF",
        "colab_type": "text"
      },
      "source": [
        "# DISCUSSION\n",
        "\n",
        "####Model Implications\n",
        "\n",
        "####Fictional Instance\n",
        "\n",
        "####Potential accuracy in interpolation and extrapolration"
      ]
    },
    {
      "cell_type": "markdown",
      "metadata": {
        "id": "LoN4CenG82kw",
        "colab_type": "text"
      },
      "source": [
        "# SUMMARY\n",
        "\n",
        "####Conclusion\n",
        "\n",
        "####Future Aspects\n",
        "\n",
        "####Knowledge gathered"
      ]
    },
    {
      "cell_type": "markdown",
      "metadata": {
        "id": "a3RHYEY_NVHa",
        "colab_type": "text"
      },
      "source": [
        "# REFERENCES\n",
        "\n",
        "Austin Reese (2019) \"Used Cars Dataset\" Vehicles listings from Craigslist.org. Available at: https://www.kaggle.com/austinreese/craigslist-carstrucks-data/version/7.\n",
        "\n",
        "\n",
        "Tomesh, T. (2019). titanic.ipynb. Available at: https://colab.research.google.com/drive/1KftGp4lGzd7PJuKWq9qDv3xnxiQbwhwY#scrollTo=Y2tOGJ2UYPVi [Accessed 16 Aug. 2019].\n",
        "\n",
        "\n",
        "Stach Overflow (2019) Available at https://stackoverflow.com/questions/33165734/update-index-after-sorting-data-frame [Accessed 17 Aug 2019]\n",
        "\n",
        "\n",
        "TutorialsPoint (2019 )Available at https://www.tutorialspoint.com/python_pandas/python_pandas_dataframe.html [Accessed 18 Aug 2019]\n",
        "\n",
        "\n",
        "Chris ALbon (2017), \"Using Seaborn To Visualize A pandas Dataframe\"  Available at: https://chrisalbon.com/python/data_wrangling/pandas_with_seaborn/  [Accessed 18 Aug 2019]"
      ]
    }
  ]
}